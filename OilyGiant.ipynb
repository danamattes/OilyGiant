{
 "cells": [
  {
   "cell_type": "markdown",
   "metadata": {},
   "source": [
    "# OilyGiant - selecting the region with the highest profit margin"
   ]
  },
  {
   "cell_type": "markdown",
   "metadata": {},
   "source": [
    "# Introduction"
   ]
  },
  {
   "cell_type": "markdown",
   "metadata": {},
   "source": [
    "On this project, we have been comissioned by the company OilyGiant to select the best region for their new well. For this goal, we have received the information of three regions, their oil quality and volume of reserves. \n",
    "\n",
    "In order to be able to reach the objective, we will first prepare the data: deal with any missing information or duplicates. We will prepare the features, dealing with the type of information and scales. Next, we will train a model that can predict the volume of reserves in the new wells, we will select the oil wells with the highest estimated values and finally we will pick the region with the highest total profit for the selected oil wells. \n",
    "\n",
    "We will be using the bootstrapping technique to analyze the potential profit and risks for each area."
   ]
  },
  {
   "cell_type": "markdown",
   "metadata": {},
   "source": [
    "# Initial preparations"
   ]
  },
  {
   "cell_type": "markdown",
   "metadata": {},
   "source": [
    "In this first section we will be importing all the necessary libraries and functions, we will read the data, get a first glimpse at it, obtain general information for each region, we will look for missing values and duplicates."
   ]
  },
  {
   "cell_type": "code",
   "execution_count": 1,
   "metadata": {},
   "outputs": [],
   "source": [
    "#Importing all necessary libraries and functions\n",
    "import pandas as pd\n",
    "import matplotlib.pyplot as plt\n",
    "from sklearn.model_selection import train_test_split\n",
    "from sklearn.linear_model import LinearRegression\n",
    "from sklearn.metrics import mean_squared_error\n",
    "from sklearn.dummy import DummyRegressor\n",
    "from sklearn.metrics import r2_score\n",
    "import numpy as np"
   ]
  },
  {
   "cell_type": "code",
   "execution_count": 2,
   "metadata": {},
   "outputs": [],
   "source": [
    "#Reading the data\n",
    "geo_data_0 = pd.read_csv('/datasets/geo_data_0.csv')\n",
    "geo_data_1 = pd.read_csv('/datasets/geo_data_1.csv')\n",
    "geo_data_2 = pd.read_csv('/datasets/geo_data_2.csv')"
   ]
  },
  {
   "cell_type": "markdown",
   "metadata": {},
   "source": [
    "We were able to read the data without problem."
   ]
  },
  {
   "cell_type": "code",
   "execution_count": 3,
   "metadata": {},
   "outputs": [
    {
     "name": "stdout",
     "output_type": "stream",
     "text": [
      "<class 'pandas.core.frame.DataFrame'>\n",
      "RangeIndex: 100000 entries, 0 to 99999\n",
      "Data columns (total 5 columns):\n",
      " #   Column   Non-Null Count   Dtype  \n",
      "---  ------   --------------   -----  \n",
      " 0   id       100000 non-null  object \n",
      " 1   f0       100000 non-null  float64\n",
      " 2   f1       100000 non-null  float64\n",
      " 3   f2       100000 non-null  float64\n",
      " 4   product  100000 non-null  float64\n",
      "dtypes: float64(4), object(1)\n",
      "memory usage: 3.8+ MB\n",
      "None\n",
      "<class 'pandas.core.frame.DataFrame'>\n",
      "RangeIndex: 100000 entries, 0 to 99999\n",
      "Data columns (total 5 columns):\n",
      " #   Column   Non-Null Count   Dtype  \n",
      "---  ------   --------------   -----  \n",
      " 0   id       100000 non-null  object \n",
      " 1   f0       100000 non-null  float64\n",
      " 2   f1       100000 non-null  float64\n",
      " 3   f2       100000 non-null  float64\n",
      " 4   product  100000 non-null  float64\n",
      "dtypes: float64(4), object(1)\n",
      "memory usage: 3.8+ MB\n",
      "None\n",
      "<class 'pandas.core.frame.DataFrame'>\n",
      "RangeIndex: 100000 entries, 0 to 99999\n",
      "Data columns (total 5 columns):\n",
      " #   Column   Non-Null Count   Dtype  \n",
      "---  ------   --------------   -----  \n",
      " 0   id       100000 non-null  object \n",
      " 1   f0       100000 non-null  float64\n",
      " 2   f1       100000 non-null  float64\n",
      " 3   f2       100000 non-null  float64\n",
      " 4   product  100000 non-null  float64\n",
      "dtypes: float64(4), object(1)\n",
      "memory usage: 3.8+ MB\n"
     ]
    }
   ],
   "source": [
    "#Getting general information regarding the data\n",
    "print(geo_data_0.info())\n",
    "print(geo_data_1.info())\n",
    "geo_data_2.info()"
   ]
  },
  {
   "cell_type": "markdown",
   "metadata": {},
   "source": [
    "All three datasets are composed of 100,000 rows and contain 4 columns: id, f0, f1, f2 and product. At a first glance, none of them seem to have missing values. Here we can also see that the 'id' column is the only categorical column, in order to be able to train the model, we can't have any categorical columns. We will have to deal with this in the second part of the project."
   ]
  },
  {
   "cell_type": "code",
   "execution_count": 4,
   "metadata": {},
   "outputs": [
    {
     "name": "stdout",
     "output_type": "stream",
     "text": [
      "          id        f0        f1        f2     product\n",
      "99207  jcr4l  0.184493  0.382165  1.790928   59.780480\n",
      "53135  Fm8Sl -0.512980  0.661801  3.663965  143.632193\n",
      "69184  yPlKB  0.154585 -0.169941  6.640531  145.023928\n",
      "34313  FbhRD  0.070206  1.126689  2.178799   79.179888\n",
      "16192  N9LMv -0.449353  0.981583  6.606967  159.505147\n",
      "72839  fSavz  0.155185 -0.120697 -0.953331   64.636132\n",
      "7685   Osb38  1.115470  0.295780  4.873622  133.838211\n",
      "75753  Vsoyz -0.933673  0.175701  0.619725  121.567906\n",
      "90890  qaLg9  1.907422  0.488067  3.210128   98.751644\n",
      "18098  YvSPs  2.055405  0.319366  0.599179   37.162607\n",
      "          id         f0         f1        f2     product\n",
      "42597  og0Mo  -2.882414  -3.346973 -0.004195    3.179103\n",
      "64310  XW21P  -6.919446  -4.400367  0.002375    3.179103\n",
      "36774  oj0UY  11.102280  -2.566455  2.995606   80.859783\n",
      "31065  9EmrN  11.355285  -6.949261  2.995079   80.859783\n",
      "46757  18JHR   3.901487  -5.825303  4.997341  137.945408\n",
      "22598  EL8hY  -7.766736  -4.809439 -0.002236    3.179103\n",
      "25477  fsZwN   2.129307  -2.463970  2.003802   53.906522\n",
      "73942  LJc8N   0.784832  -0.777371  0.995441   26.953261\n",
      "51013  O1OMP  -4.345238 -12.246756  2.001722   57.085625\n",
      "30963  QLGqV -11.093352 -12.128133  1.009003   30.132364\n",
      "          id        f0        f1         f2     product\n",
      "18843  0tZSR  1.531325 -1.053963   3.336603   12.513449\n",
      "52786  UZ8qK -1.003079  4.638687   0.475955   88.530501\n",
      "41622  N9VVJ  0.086619  1.160847   2.959026   18.887640\n",
      "96679  dP9ME -3.352842  0.061528   0.636553   98.823520\n",
      "41656  esp7x -2.804732 -3.528640  -1.403759   86.585917\n",
      "36443  5R4Ed -0.462386 -2.532144  10.511118  164.130623\n",
      "28493  oDTtD -1.582506  0.484174  -1.094969   10.559358\n",
      "91940  W38Ad -0.242729 -2.480144  -1.623501   87.380866\n",
      "39748  NRpsS -0.836879  1.453166   0.094482  106.755048\n",
      "98572  wLNak  1.330046 -2.016956   0.912755  134.144887\n"
     ]
    }
   ],
   "source": [
    "#Getting a first glimpse at the data\n",
    "print(geo_data_0.sample(10))\n",
    "print(geo_data_1.sample(10))\n",
    "print(geo_data_2.sample(10))"
   ]
  },
  {
   "cell_type": "code",
   "execution_count": 5,
   "metadata": {},
   "outputs": [
    {
     "data": {
      "text/html": [
       "<div>\n",
       "<style scoped>\n",
       "    .dataframe tbody tr th:only-of-type {\n",
       "        vertical-align: middle;\n",
       "    }\n",
       "\n",
       "    .dataframe tbody tr th {\n",
       "        vertical-align: top;\n",
       "    }\n",
       "\n",
       "    .dataframe thead th {\n",
       "        text-align: right;\n",
       "    }\n",
       "</style>\n",
       "<table border=\"1\" class=\"dataframe\">\n",
       "  <thead>\n",
       "    <tr style=\"text-align: right;\">\n",
       "      <th></th>\n",
       "      <th>id</th>\n",
       "      <th>f0</th>\n",
       "      <th>f1</th>\n",
       "      <th>f2</th>\n",
       "      <th>product</th>\n",
       "    </tr>\n",
       "  </thead>\n",
       "  <tbody>\n",
       "    <tr>\n",
       "      <th>0</th>\n",
       "      <td>txEyH</td>\n",
       "      <td>0.705745</td>\n",
       "      <td>-0.497823</td>\n",
       "      <td>1.221170</td>\n",
       "      <td>105.280062</td>\n",
       "    </tr>\n",
       "    <tr>\n",
       "      <th>1</th>\n",
       "      <td>2acmU</td>\n",
       "      <td>1.334711</td>\n",
       "      <td>-0.340164</td>\n",
       "      <td>4.365080</td>\n",
       "      <td>73.037750</td>\n",
       "    </tr>\n",
       "    <tr>\n",
       "      <th>2</th>\n",
       "      <td>409Wp</td>\n",
       "      <td>1.022732</td>\n",
       "      <td>0.151990</td>\n",
       "      <td>1.419926</td>\n",
       "      <td>85.265647</td>\n",
       "    </tr>\n",
       "  </tbody>\n",
       "</table>\n",
       "</div>"
      ],
      "text/plain": [
       "      id        f0        f1        f2     product\n",
       "0  txEyH  0.705745 -0.497823  1.221170  105.280062\n",
       "1  2acmU  1.334711 -0.340164  4.365080   73.037750\n",
       "2  409Wp  1.022732  0.151990  1.419926   85.265647"
      ]
     },
     "metadata": {},
     "output_type": "display_data"
    },
    {
     "data": {
      "text/html": [
       "<div>\n",
       "<style scoped>\n",
       "    .dataframe tbody tr th:only-of-type {\n",
       "        vertical-align: middle;\n",
       "    }\n",
       "\n",
       "    .dataframe tbody tr th {\n",
       "        vertical-align: top;\n",
       "    }\n",
       "\n",
       "    .dataframe thead th {\n",
       "        text-align: right;\n",
       "    }\n",
       "</style>\n",
       "<table border=\"1\" class=\"dataframe\">\n",
       "  <thead>\n",
       "    <tr style=\"text-align: right;\">\n",
       "      <th></th>\n",
       "      <th>id</th>\n",
       "      <th>f0</th>\n",
       "      <th>f1</th>\n",
       "      <th>f2</th>\n",
       "      <th>product</th>\n",
       "    </tr>\n",
       "  </thead>\n",
       "  <tbody>\n",
       "    <tr>\n",
       "      <th>99997</th>\n",
       "      <td>3rnvd</td>\n",
       "      <td>1.029585</td>\n",
       "      <td>0.018787</td>\n",
       "      <td>-1.348308</td>\n",
       "      <td>64.375443</td>\n",
       "    </tr>\n",
       "    <tr>\n",
       "      <th>99998</th>\n",
       "      <td>7kl59</td>\n",
       "      <td>0.998163</td>\n",
       "      <td>-0.528582</td>\n",
       "      <td>1.583869</td>\n",
       "      <td>74.040764</td>\n",
       "    </tr>\n",
       "    <tr>\n",
       "      <th>99999</th>\n",
       "      <td>1CWhH</td>\n",
       "      <td>1.764754</td>\n",
       "      <td>-0.266417</td>\n",
       "      <td>5.722849</td>\n",
       "      <td>149.633246</td>\n",
       "    </tr>\n",
       "  </tbody>\n",
       "</table>\n",
       "</div>"
      ],
      "text/plain": [
       "          id        f0        f1        f2     product\n",
       "99997  3rnvd  1.029585  0.018787 -1.348308   64.375443\n",
       "99998  7kl59  0.998163 -0.528582  1.583869   74.040764\n",
       "99999  1CWhH  1.764754 -0.266417  5.722849  149.633246"
      ]
     },
     "execution_count": 5,
     "metadata": {},
     "output_type": "execute_result"
    }
   ],
   "source": [
    "# Reviewer's code 2\n",
    "\n",
    "display(geo_data_0.head(3))\n",
    "\n",
    "geo_data_0.tail(3)"
   ]
  },
  {
   "cell_type": "markdown",
   "metadata": {},
   "source": [
    "This shows that the data seems to be standardized already, it doesn't seem like we are dealing with different scales on the columns that will be used as features."
   ]
  },
  {
   "cell_type": "code",
   "execution_count": 6,
   "metadata": {},
   "outputs": [
    {
     "name": "stdout",
     "output_type": "stream",
     "text": [
      "id         0\n",
      "f0         0\n",
      "f1         0\n",
      "f2         0\n",
      "product    0\n",
      "dtype: int64\n"
     ]
    },
    {
     "data": {
      "text/plain": [
       "0"
      ]
     },
     "execution_count": 6,
     "metadata": {},
     "output_type": "execute_result"
    }
   ],
   "source": [
    "#Looking for missing data or duplicated rows on geo_data_0\n",
    "print(geo_data_0.isna().sum())\n",
    "geo_data_0.duplicated().sum()"
   ]
  },
  {
   "cell_type": "code",
   "execution_count": 7,
   "metadata": {},
   "outputs": [
    {
     "name": "stdout",
     "output_type": "stream",
     "text": [
      "id         0\n",
      "f0         0\n",
      "f1         0\n",
      "f2         0\n",
      "product    0\n",
      "dtype: int64\n"
     ]
    },
    {
     "data": {
      "text/plain": [
       "0"
      ]
     },
     "execution_count": 7,
     "metadata": {},
     "output_type": "execute_result"
    }
   ],
   "source": [
    "#Looking for missing data or duplicated rows on geo_data_1\n",
    "print(geo_data_1.isna().sum())\n",
    "geo_data_1.duplicated().sum()"
   ]
  },
  {
   "cell_type": "code",
   "execution_count": 8,
   "metadata": {},
   "outputs": [
    {
     "name": "stdout",
     "output_type": "stream",
     "text": [
      "id         0\n",
      "f0         0\n",
      "f1         0\n",
      "f2         0\n",
      "product    0\n",
      "dtype: int64\n"
     ]
    },
    {
     "data": {
      "text/plain": [
       "0"
      ]
     },
     "execution_count": 8,
     "metadata": {},
     "output_type": "execute_result"
    }
   ],
   "source": [
    "#Looking for missing data or duplicated rows on geo_data_2\n",
    "print(geo_data_2.isna().sum())\n",
    "geo_data_2.duplicated().sum()"
   ]
  },
  {
   "cell_type": "markdown",
   "metadata": {},
   "source": [
    "As expected, we didn't find any missing data in any of the three regions."
   ]
  },
  {
   "cell_type": "code",
   "execution_count": 9,
   "metadata": {},
   "outputs": [
    {
     "name": "stdout",
     "output_type": "stream",
     "text": [
      "                  f0             f1             f2        product\n",
      "count  100000.000000  100000.000000  100000.000000  100000.000000\n",
      "mean        0.500419       0.250143       2.502647      92.500000\n",
      "std         0.871832       0.504433       3.248248      44.288691\n",
      "min        -1.408605      -0.848218     -12.088328       0.000000\n",
      "25%        -0.072580      -0.200881       0.287748      56.497507\n",
      "50%         0.502360       0.250252       2.515969      91.849972\n",
      "75%         1.073581       0.700646       4.715088     128.564089\n",
      "max         2.362331       1.343769      16.003790     185.364347\n",
      "                  f0             f1             f2        product\n",
      "count  100000.000000  100000.000000  100000.000000  100000.000000\n",
      "mean        1.141296      -4.796579       2.494541      68.825000\n",
      "std         8.965932       5.119872       1.703572      45.944423\n",
      "min       -31.609576     -26.358598      -0.018144       0.000000\n",
      "25%        -6.298551      -8.267985       1.000021      26.953261\n",
      "50%         1.153055      -4.813172       2.011479      57.085625\n",
      "75%         8.621015      -1.332816       3.999904     107.813044\n",
      "max        29.421755      18.734063       5.019721     137.945408\n",
      "                  f0             f1             f2        product\n",
      "count  100000.000000  100000.000000  100000.000000  100000.000000\n",
      "mean        0.002023      -0.002081       2.495128      95.000000\n",
      "std         1.732045       1.730417       3.473445      44.749921\n",
      "min        -8.760004      -7.084020     -11.970335       0.000000\n",
      "25%        -1.162288      -1.174820       0.130359      59.450441\n",
      "50%         0.009424      -0.009482       2.484236      94.925613\n",
      "75%         1.158535       1.163678       4.858794     130.595027\n",
      "max         7.238262       7.844801      16.739402     190.029838\n"
     ]
    }
   ],
   "source": [
    "#Calling the describe method to get a general idea of the information contained in the datasets\n",
    "print(geo_data_0.describe())\n",
    "print(geo_data_1.describe())\n",
    "print(geo_data_2.describe())"
   ]
  },
  {
   "cell_type": "markdown",
   "metadata": {},
   "source": [
    "So far, we haven't encountered duplicated rows or missing data. In all of the datasets, the only categorical column corresponds to the 'id'. The rest of the columns are numerical and don't seem to need to be standardized. The categorical 'id' column is not useful for training the model, so I won't be using it while training the models. \n",
    "\n",
    "Before getting rid of the 'id', I wondered if there were all unique ids, for this goal, I filtered the dataframe were the 'id' might be repeated. "
   ]
  },
  {
   "cell_type": "code",
   "execution_count": 10,
   "metadata": {},
   "outputs": [
    {
     "name": "stdout",
     "output_type": "stream",
     "text": [
      "          id        f0        f1         f2     product\n",
      "66136  74z30  1.084962 -0.312358   6.990771  127.643327\n",
      "64022  74z30  0.741456  0.459229   5.153109  140.771492\n",
      "51970  A5aEY -0.180335  0.935548  -2.094773   33.020205\n",
      "3389   A5aEY -0.039949  0.156872   0.209861   89.249364\n",
      "69163  AGS9W -0.933795  0.116194  -3.655896   19.230453\n",
      "42529  AGS9W  1.454747 -0.479651   0.683380  126.370504\n",
      "931    HZww2  0.755284  0.368511   1.863211   30.681774\n",
      "7530   HZww2  1.061194 -0.373969  10.430210  158.828695\n",
      "63593  QcMuo  0.635635 -0.473422   0.862670   64.578675\n",
      "1949   QcMuo  0.506563 -0.323775  -2.215583   75.496502\n",
      "75715  Tdehs  0.112079  0.430296   3.218993   60.964018\n",
      "21426  Tdehs  0.829407  0.298807  -0.049563   96.035308\n",
      "92341  TtcGQ  0.110711  1.022689   0.911381  101.318008\n",
      "60140  TtcGQ  0.569276 -0.104876   6.440215   85.350186\n",
      "89582  bsk9y  0.398908 -0.400253  10.122376  163.433078\n",
      "97785  bsk9y  0.378429  0.005837   0.160827  160.637302\n",
      "41724  bxg6G -0.823752  0.546319   3.630479   93.007798\n",
      "1364   bxg6G  0.411645  0.856830  -3.653440   73.604260\n",
      "16633  fiKDv  0.157341  1.028359   5.585586   95.817889\n",
      "90815  fiKDv  0.049883  0.841313   6.394613  137.346586\n"
     ]
    }
   ],
   "source": [
    "#duplicated ids on geo_data_0\n",
    "value_counts = geo_data_0['id'].value_counts()\n",
    "threshold = 1\n",
    "values_above_threshold = value_counts[value_counts > threshold].index.tolist()\n",
    "filtered_df = geo_data_0[geo_data_0['id'].isin(values_above_threshold)]\n",
    "print(filtered_df.sort_values(by='id'))\n"
   ]
  },
  {
   "cell_type": "markdown",
   "metadata": {},
   "source": [
    "There are 10 duplicated ids, and the information contained in each of the rows for each duplicated id, is very different from each other. This data is not consistent. We will be dropping both occurrences of these ids since there seems to be an issue with them and they are not representative in number to the entire dataset."
   ]
  },
  {
   "cell_type": "code",
   "execution_count": 11,
   "metadata": {},
   "outputs": [
    {
     "name": "stdout",
     "output_type": "stream",
     "text": [
      "(99980, 5)\n"
     ]
    }
   ],
   "source": [
    "#Deleting rows with duplicated ids\n",
    "geo_data_0.drop_duplicates(subset=['id'], keep=False, inplace=True, ignore_index=False)\n",
    "#Confirming it was done correctly by getting the updated shape\n",
    "print(geo_data_0.shape)"
   ]
  },
  {
   "cell_type": "markdown",
   "metadata": {},
   "source": [
    "Now we will conduct the same process for the other 2 regions. If we find duplicated ids, we will delete those rows as well."
   ]
  },
  {
   "cell_type": "code",
   "execution_count": 12,
   "metadata": {},
   "outputs": [
    {
     "name": "stdout",
     "output_type": "stream",
     "text": [
      "          id         f0         f1        f2     product\n",
      "5849   5ltQ6  -3.435401 -12.296043  1.999796   57.085625\n",
      "84461  5ltQ6  18.213839   2.191999  3.993869  107.813044\n",
      "1305   LHZR0  11.170835  -1.945066  3.002872   80.859783\n",
      "41906  LHZR0  -8.989672  -4.286607  2.009139   57.085625\n",
      "2721   bfPNe  -9.494442  -5.463692  4.006042  110.992147\n",
      "82178  bfPNe  -6.202799  -4.820045  2.995107   84.038886\n",
      "47591  wt4Uk  -9.091098  -8.109279 -0.002314    3.179103\n",
      "82873  wt4Uk  10.259972  -9.376355  4.994297  134.766305\n"
     ]
    }
   ],
   "source": [
    "#duplicated ids on geo_data_1\n",
    "value_counts = geo_data_1['id'].value_counts()\n",
    "threshold = 1\n",
    "values_above_threshold = value_counts[value_counts > threshold].index.tolist()\n",
    "filtered_df = geo_data_1[geo_data_1['id'].isin(values_above_threshold)]\n",
    "print(filtered_df.sort_values(by='id'))"
   ]
  },
  {
   "cell_type": "code",
   "execution_count": 13,
   "metadata": {},
   "outputs": [
    {
     "name": "stdout",
     "output_type": "stream",
     "text": [
      "(99992, 5)\n"
     ]
    }
   ],
   "source": [
    "#Deleting rows with duplicated ids\n",
    "geo_data_1.drop_duplicates(subset=['id'], keep=False, inplace=True, ignore_index=False)\n",
    "#Confirming it was done correctly by getting the updated shape\n",
    "print(geo_data_1.shape)"
   ]
  },
  {
   "cell_type": "code",
   "execution_count": 14,
   "metadata": {},
   "outputs": [
    {
     "name": "stdout",
     "output_type": "stream",
     "text": [
      "          id        f0        f1        f2     product\n",
      "45404  KUPhW  0.231846 -1.698941  4.990775   11.716299\n",
      "55967  KUPhW  1.211150  3.176408  5.543540  132.831802\n",
      "11449  VF7Jo  2.122656 -0.858275  5.746001  181.716817\n",
      "49564  VF7Jo -0.883115  0.560537  0.723601  136.233420\n",
      "44378  Vcm5J -1.229484 -2.439204  1.222909  137.968290\n",
      "95090  Vcm5J  2.587702  1.986875  2.482245   92.327572\n",
      "28039  xCHr8  1.633027  0.368135 -2.378367    6.120525\n",
      "43233  xCHr8 -0.847066  2.101796  5.597130  184.388641\n"
     ]
    }
   ],
   "source": [
    "#duplicated ids on geo_data_2\n",
    "value_counts = geo_data_2['id'].value_counts()\n",
    "threshold = 1\n",
    "values_above_threshold = value_counts[value_counts > threshold].index.tolist()\n",
    "filtered_df = geo_data_2[geo_data_2['id'].isin(values_above_threshold)]\n",
    "print(filtered_df.sort_values(by='id'))"
   ]
  },
  {
   "cell_type": "code",
   "execution_count": 15,
   "metadata": {},
   "outputs": [
    {
     "name": "stdout",
     "output_type": "stream",
     "text": [
      "(99992, 5)\n"
     ]
    }
   ],
   "source": [
    "#Deleting rows with duplicated ids\n",
    "geo_data_2.drop_duplicates(subset=['id'], keep=False, inplace=True, ignore_index=False)\n",
    "#Confirming it was done correctly by getting the updated shape\n",
    "print(geo_data_2.shape)"
   ]
  },
  {
   "cell_type": "markdown",
   "metadata": {},
   "source": [
    "We found duplicated ids in all three regions, both occurrences were deleted in all of them. But before moving forward, let's take a look at the distribution of the data."
   ]
  },
  {
   "cell_type": "markdown",
   "metadata": {},
   "source": [
    "# Distribution of data"
   ]
  },
  {
   "cell_type": "markdown",
   "metadata": {},
   "source": [
    "Region 0"
   ]
  },
  {
   "cell_type": "markdown",
   "metadata": {},
   "source": [
    "In this section we will create some box plot to be able to understand better the distribution of the data and the presence of outliers:"
   ]
  },
  {
   "cell_type": "code",
   "execution_count": 16,
   "metadata": {},
   "outputs": [
    {
     "data": {
      "image/png": "[encoded data removed]",
      "text/plain": [
       "<Figure size 640x480 with 1 Axes>"
      ]
     },
     "metadata": {},
     "output_type": "display_data"
    },
    {
     "name": "stdout",
     "output_type": "stream",
     "text": [
      "The standard deviation on f0 feature is: 0.8718788030236406\n"
     ]
    }
   ],
   "source": [
    "geo_data_0['f0'].plot(kind='box')\n",
    "plt.title('Distribution of feature \"f0\" on region 0')\n",
    "plt.ylabel('Values')\n",
    "plt.grid(True)\n",
    "plt.show()\n",
    "print('The standard deviation on f0 feature is:', geo_data_0['f0'].std())"
   ]
  },
  {
   "cell_type": "code",
   "execution_count": 17,
   "metadata": {},
   "outputs": [
    {
     "data": {
      "image/png": "[encoded data removed]",
      "text/plain": [
       "<Figure size 640x480 with 1 Axes>"
      ]
     },
     "metadata": {},
     "output_type": "display_data"
    },
    {
     "name": "stdout",
     "output_type": "stream",
     "text": [
      "The standard deviation on f1 feature is: 0.5044306116495949\n"
     ]
    }
   ],
   "source": [
    "geo_data_0['f1'].plot(kind='box')\n",
    "plt.title('Distribution of feature \"f1\" on region 0')\n",
    "plt.ylabel('Values')\n",
    "plt.grid(True)\n",
    "plt.show()\n",
    "print('The standard deviation on f1 feature is:', geo_data_0['f1'].std())"
   ]
  },
  {
   "cell_type": "code",
   "execution_count": 18,
   "metadata": {},
   "outputs": [
    {
     "data": {
      "image/png": "[encoded data removed]",
      "text/plain": [
       "<Figure size 640x480 with 1 Axes>"
      ]
     },
     "metadata": {},
     "output_type": "display_data"
    },
    {
     "name": "stdout",
     "output_type": "stream",
     "text": [
      "The standard deviation on f2 feature is: 3.248056097081717\n"
     ]
    }
   ],
   "source": [
    "geo_data_0['f2'].plot(kind='box')\n",
    "plt.title('Distribution of feature \"f2\" on region 0')\n",
    "plt.ylabel('Values')\n",
    "plt.grid(True)\n",
    "plt.show()\n",
    "print('The standard deviation on f2 feature is:', geo_data_0['f2'].std())"
   ]
  },
  {
   "cell_type": "markdown",
   "metadata": {},
   "source": [
    "From the data contained regarding the region 0, both for features 0 and 1, it can be considered that the values fall within an acceptable range, however, there are some considerable outliers on feature f2. It is important to consider this when evaluating the regions."
   ]
  },
  {
   "cell_type": "markdown",
   "metadata": {},
   "source": [
    "Region 1"
   ]
  },
  {
   "cell_type": "code",
   "execution_count": 19,
   "metadata": {},
   "outputs": [
    {
     "data": {
      "image/png": "[encoded data removed]",
      "text/plain": [
       "<Figure size 640x480 with 1 Axes>"
      ]
     },
     "metadata": {},
     "output_type": "display_data"
    },
    {
     "name": "stdout",
     "output_type": "stream",
     "text": [
      "The standard deviation on f0 feature is: 8.965804647653403\n"
     ]
    }
   ],
   "source": [
    "geo_data_1['f0'].plot(kind='box')\n",
    "plt.title('Distribution of feature \"f0\" on region 1')\n",
    "plt.ylabel('Values')\n",
    "plt.grid(True)\n",
    "plt.show()\n",
    "print('The standard deviation on f0 feature is:', geo_data_1['f0'].std())"
   ]
  },
  {
   "cell_type": "code",
   "execution_count": 20,
   "metadata": {},
   "outputs": [
    {
     "data": {
      "image/png": "[encoded data removed]",
      "text/plain": [
       "<Figure size 640x480 with 1 Axes>"
      ]
     },
     "metadata": {},
     "output_type": "display_data"
    },
    {
     "name": "stdout",
     "output_type": "stream",
     "text": [
      "The standard deviation on f1 feature is: 5.119933979373235\n"
     ]
    }
   ],
   "source": [
    "geo_data_1['f1'].plot(kind='box')\n",
    "plt.title('Distribution of feature \"f1\" on region 1')\n",
    "plt.ylabel('Values')\n",
    "plt.grid(True)\n",
    "plt.show()\n",
    "print('The standard deviation on f1 feature is:', geo_data_1['f1'].std())"
   ]
  },
  {
   "cell_type": "code",
   "execution_count": 21,
   "metadata": {},
   "outputs": [
    {
     "data": {
      "image/png": "[encoded data removed]",
      "text/plain": [
       "<Figure size 640x480 with 1 Axes>"
      ]
     },
     "metadata": {},
     "output_type": "display_data"
    },
    {
     "name": "stdout",
     "output_type": "stream",
     "text": [
      "The standard deviation on f2 feature is: 1.703586816923432\n"
     ]
    }
   ],
   "source": [
    "geo_data_1['f2'].plot(kind='box')\n",
    "plt.title('Distribution of feature \"f2\" on region 1')\n",
    "plt.ylabel('Values')\n",
    "plt.grid(True)\n",
    "plt.show()\n",
    "print('The standard deviation on f2 feature is:', geo_data_1['f2'].std())"
   ]
  },
  {
   "cell_type": "markdown",
   "metadata": {},
   "source": [
    "In general the data present on region 1 is much more spread, however, we can only find considerable outliers on feature f1. "
   ]
  },
  {
   "cell_type": "markdown",
   "metadata": {},
   "source": [
    "Region 2"
   ]
  },
  {
   "cell_type": "code",
   "execution_count": 22,
   "metadata": {},
   "outputs": [
    {
     "data": {
      "image/png": "[encoded data removed]",
      "text/plain": [
       "<Figure size 640x480 with 1 Axes>"
      ]
     },
     "metadata": {},
     "output_type": "display_data"
    },
    {
     "name": "stdout",
     "output_type": "stream",
     "text": [
      "The standard deviation on f0 feature is: 1.7320611312829763\n"
     ]
    }
   ],
   "source": [
    "geo_data_2['f0'].plot(kind='box')\n",
    "plt.title('Distribution of feature \"f0\" on region 2')\n",
    "plt.ylabel('Values')\n",
    "plt.grid(True)\n",
    "plt.show()\n",
    "print('The standard deviation on f0 feature is:', geo_data_2['f0'].std())"
   ]
  },
  {
   "cell_type": "code",
   "execution_count": 23,
   "metadata": {},
   "outputs": [
    {
     "data": {
      "image/png": "[encoded data removed]",
      "text/plain": [
       "<Figure size 640x480 with 1 Axes>"
      ]
     },
     "metadata": {},
     "output_type": "display_data"
    },
    {
     "name": "stdout",
     "output_type": "stream",
     "text": [
      "The standard deviation on f1 feature is: 1.7304039771281319\n"
     ]
    }
   ],
   "source": [
    "geo_data_2['f1'].plot(kind='box')\n",
    "plt.title('Distribution of feature \"f1\" on region 2')\n",
    "plt.ylabel('Values')\n",
    "plt.grid(True)\n",
    "plt.show()\n",
    "print('The standard deviation on f1 feature is:', geo_data_2['f1'].std())"
   ]
  },
  {
   "cell_type": "code",
   "execution_count": 24,
   "metadata": {},
   "outputs": [
    {
     "data": {
      "image/png": "[encoded data removed]",
      "text/plain": [
       "<Figure size 640x480 with 1 Axes>"
      ]
     },
     "metadata": {},
     "output_type": "display_data"
    },
    {
     "name": "stdout",
     "output_type": "stream",
     "text": [
      "The standard deviation on f2 feature is: 3.473491120388427\n"
     ]
    }
   ],
   "source": [
    "geo_data_2['f2'].plot(kind='box')\n",
    "plt.title('Distribution of feature \"f2\" on region 2')\n",
    "plt.ylabel('Values')\n",
    "plt.grid(True)\n",
    "plt.show()\n",
    "print('The standard deviation on f2 feature is:', geo_data_2['f2'].std())"
   ]
  },
  {
   "cell_type": "markdown",
   "metadata": {},
   "source": [
    "Out of all three regions, region 2 is the one that has a higher presence of outliers, since they are present in all of the features to consider. We will be dealing with the features in the last part of this project using the quantiles method."
   ]
  },
  {
   "cell_type": "markdown",
   "metadata": {},
   "source": [
    "Correlation"
   ]
  },
  {
   "cell_type": "markdown",
   "metadata": {},
   "source": [
    "As an additional step, we will obtain the correlation coefficient for each dataframe, in order to understand the relations between the different features and the product."
   ]
  },
  {
   "cell_type": "code",
   "execution_count": 25,
   "metadata": {},
   "outputs": [
    {
     "name": "stdout",
     "output_type": "stream",
     "text": [
      "               f0        f1        f2   product\n",
      "f0       1.000000 -0.440724 -0.003204  0.143504\n",
      "f1      -0.440724  1.000000  0.001783 -0.192338\n",
      "f2      -0.003204  0.001783  1.000000  0.483628\n",
      "product  0.143504 -0.192338  0.483628  1.000000\n"
     ]
    }
   ],
   "source": [
    "#Calculation correlation for region 0\n",
    "print(geo_data_0.corr())"
   ]
  },
  {
   "cell_type": "code",
   "execution_count": 26,
   "metadata": {},
   "outputs": [
    {
     "name": "stdout",
     "output_type": "stream",
     "text": [
      "               f0        f1        f2   product\n",
      "f0       1.000000  0.182263 -0.001821 -0.030534\n",
      "f1       0.182263  1.000000 -0.002608 -0.010167\n",
      "f2      -0.001821 -0.002608  1.000000  0.999397\n",
      "product -0.030534 -0.010167  0.999397  1.000000\n"
     ]
    }
   ],
   "source": [
    "#Calculation correlation for region 1\n",
    "print(geo_data_1.corr())"
   ]
  },
  {
   "cell_type": "code",
   "execution_count": 27,
   "metadata": {},
   "outputs": [
    {
     "name": "stdout",
     "output_type": "stream",
     "text": [
      "               f0        f1        f2   product\n",
      "f0       1.000000  0.000501 -0.000454 -0.001974\n",
      "f1       0.000501  1.000000  0.000763 -0.001046\n",
      "f2      -0.000454  0.000763  1.000000  0.445873\n",
      "product -0.001974 -0.001046  0.445873  1.000000\n"
     ]
    }
   ],
   "source": [
    "#Calculation correlation for region 2\n",
    "print(geo_data_2.corr())"
   ]
  },
  {
   "cell_type": "markdown",
   "metadata": {},
   "source": [
    "After obtaining the correlation coefficient for all three regions, it has become clear that feature f2 is the one that has the highest influence in the product for each well. The other two features seem to have a very slight influence.\n",
    "\n",
    "We can also see that the features doesn't seem to influence each other. Or if they do it is also very slightly, it seems like these features are independent factors."
   ]
  },
  {
   "cell_type": "markdown",
   "metadata": {},
   "source": [
    "# Training and testing the model for each region"
   ]
  },
  {
   "cell_type": "markdown",
   "metadata": {},
   "source": [
    "In terms of feature preparation, all that is needed is to drop the 'id' column, since no standardizing is needed on this case. We will drop it this step."
   ]
  },
  {
   "cell_type": "code",
   "execution_count": 28,
   "metadata": {},
   "outputs": [
    {
     "name": "stdout",
     "output_type": "stream",
     "text": [
      "Region: Geo_data_0\n",
      "RMSE = 37.716904960382735\n",
      "Average volume of predicted reserves: 92.42384109947359\n",
      "R2 = 0.2766598499599884\n"
     ]
    }
   ],
   "source": [
    "#Training and testing the model for geo_data_0\n",
    "target_0 = geo_data_0['product']\n",
    "#'id' column is being dropped\n",
    "features_0 = geo_data_0.drop(['id', 'product'], axis=1)\n",
    "#Data is being split 75% for training the model and 25% for validation\n",
    "features_train_0, features_valid_0, target_train_0, target_valid_0 = train_test_split(\n",
    "    features_0, target_0, test_size=0.25, random_state=12345)\n",
    "\n",
    "model = LinearRegression()\n",
    "model.fit(features_train_0, target_train_0)\n",
    "predicted_train_0 = model.predict(features_train_0)\n",
    "predicted_valid_0 = model.predict(features_valid_0)\n",
    "mse = mean_squared_error(target_valid_0, predicted_valid_0)\n",
    "\n",
    "print('Region: Geo_data_0')\n",
    "print('RMSE =', mse ** 0.5)\n",
    "print('Average volume of predicted reserves:', predicted_valid_0.mean())\n",
    "\n",
    "r2 = r2_score(target_valid_0, predicted_valid_0)\n",
    "print('R2 =', r2)\n"
   ]
  },
  {
   "cell_type": "code",
   "execution_count": 29,
   "metadata": {},
   "outputs": [
    {
     "name": "stdout",
     "output_type": "stream",
     "text": [
      "Mean\n",
      "RMSE = 44.34727648978901\n"
     ]
    }
   ],
   "source": [
    "#Sanity check. Training a model that predicts the mean value:\n",
    "\n",
    "constant_value=target_train_0.mean()\n",
    "model=DummyRegressor(strategy='constant', constant=constant_value)\n",
    "model.fit(features_train_0, target_train_0)\n",
    "predicted_valid_d0 = model.predict(features_valid_0)\n",
    "mse=mean_squared_error(target_valid_0, predicted_valid_d0)\n",
    "print('Mean')\n",
    "print('RMSE =', mse ** 0.5)"
   ]
  },
  {
   "cell_type": "markdown",
   "metadata": {},
   "source": [
    "Up to this point, the constant model performed better than the trained model."
   ]
  },
  {
   "cell_type": "code",
   "execution_count": 30,
   "metadata": {},
   "outputs": [
    {
     "name": "stdout",
     "output_type": "stream",
     "text": [
      "Region: Geo_data_1\n",
      "RMSE = 0.8914901390348537\n",
      "Average volume of predicted reserves: 68.98311857983123\n",
      "R2 = 0.9996239095602003\n"
     ]
    }
   ],
   "source": [
    "#Training and testing the model for geo_data_1\n",
    "target_1 = geo_data_1['product']\n",
    "features_1 = geo_data_1.drop(['id', 'product'], axis=1)\n",
    "features_train_1, features_valid_1, target_train_1, target_valid_1 = train_test_split(\n",
    "    features_1, target_1, test_size=0.25, random_state=12345)\n",
    "\n",
    "model = LinearRegression()\n",
    "model.fit(features_train_1, target_train_1)\n",
    "predicted_train_1 = model.predict(features_train_1)\n",
    "predicted_valid_1 = model.predict(features_valid_1)\n",
    "mse = mean_squared_error(target_valid_1, predicted_valid_1)\n",
    "\n",
    "print('Region: Geo_data_1')\n",
    "print('RMSE =', mse ** 0.5)\n",
    "print('Average volume of predicted reserves:', predicted_valid_1.mean())\n",
    "\n",
    "r2 = r2_score(target_valid_1, predicted_valid_1)\n",
    "print('R2 =', r2)"
   ]
  },
  {
   "cell_type": "code",
   "execution_count": 31,
   "metadata": {},
   "outputs": [
    {
     "name": "stdout",
     "output_type": "stream",
     "text": [
      "Mean\n",
      "RMSE = 45.97003721244109\n"
     ]
    }
   ],
   "source": [
    "#Sanity check. Training a model that predicts the mean value:\n",
    "\n",
    "constant_value=target_train_1.mean()\n",
    "model=DummyRegressor(strategy='constant', constant=constant_value)\n",
    "model.fit(features_train_1, target_train_1)\n",
    "predicted_valid_d1 = model.predict(features_valid_1)\n",
    "mse=mean_squared_error(target_valid_1, predicted_valid_d1)\n",
    "print('Mean')\n",
    "print('RMSE =', mse ** 0.5)"
   ]
  },
  {
   "cell_type": "markdown",
   "metadata": {},
   "source": [
    "The model on this case behaved great. It obtained a R2 score of 0.99 which is close to perfection. "
   ]
  },
  {
   "cell_type": "code",
   "execution_count": 32,
   "metadata": {},
   "outputs": [
    {
     "name": "stdout",
     "output_type": "stream",
     "text": [
      "Region: Geo_data_2\n",
      "RMSE = 39.975543264382345\n",
      "Average volume of predicted reserves: 95.11622302076479\n",
      "R2 = 0.19558409993606407\n"
     ]
    }
   ],
   "source": [
    "#Training and testing the model for geo_data_2\n",
    "target_2 = geo_data_2['product']\n",
    "features_2 = geo_data_2.drop(['id', 'product'], axis=1)\n",
    "features_train_2, features_valid_2, target_train_2, target_valid_2 = train_test_split(\n",
    "    features_2, target_2, test_size=0.25, random_state=12345)\n",
    "\n",
    "model = LinearRegression()\n",
    "model.fit(features_train_2, target_train_2)\n",
    "predicted_train_2 = model.predict(features_train_2)\n",
    "predicted_valid_2 = model.predict(features_valid_2)\n",
    "mse = mean_squared_error(target_valid_2, predicted_valid_2)\n",
    "\n",
    "print('Region: Geo_data_2')\n",
    "print('RMSE =', mse ** 0.5)\n",
    "print('Average volume of predicted reserves:', predicted_valid_2.mean())\n",
    "\n",
    "r2 = r2_score(target_valid_2, predicted_valid_2)\n",
    "print('R2 =', r2)"
   ]
  },
  {
   "cell_type": "code",
   "execution_count": 33,
   "metadata": {},
   "outputs": [
    {
     "name": "stdout",
     "output_type": "stream",
     "text": [
      "Mean\n",
      "RMSE = 44.57522707537966\n"
     ]
    }
   ],
   "source": [
    "#Sanity check. Training a model that predicts the mean value:\n",
    "\n",
    "constant_value=target_train_2.mean()\n",
    "model=DummyRegressor(strategy='constant', constant=constant_value)\n",
    "model.fit(features_train_2, target_train_2)\n",
    "predicted_valid_d2 = model.predict(features_valid_2)\n",
    "mse=mean_squared_error(target_valid_2, predicted_valid_d2)\n",
    "print('Mean')\n",
    "print('RMSE =', mse ** 0.5)"
   ]
  },
  {
   "cell_type": "markdown",
   "metadata": {},
   "source": [
    "Out of the three regions, the model generated for region 2 is the one that is behaving worse. We did discover before that this is the data with more outliers, this probably means that is harder for the model to make accurate predictions."
   ]
  },
  {
   "cell_type": "markdown",
   "metadata": {},
   "source": [
    "With only this information, it would seem like regions 0 and 2 are more interesting than the region 1, since both generate an average of predicted reserves of over 90 units. However, both of those areas also have a higher RMSE, meaning that there are likely some outliers affecting the results. With an RMSE of around 40, we can't trust much the results. These will have to be revised with the confidence interval and bootstrapping to make sure that we are using a mean that is closer to the reality and reduce the risks of proposing a region that is incorrect."
   ]
  },
  {
   "cell_type": "markdown",
   "metadata": {},
   "source": [
    "# Preparing for profit calculation"
   ]
  },
  {
   "cell_type": "markdown",
   "metadata": {},
   "source": [
    "Since we will be selecting the region according to its profitability, we need to measure each areas volume of production as well as their performance against the costs of developing the wells. In this case, we will be developing 200 wells in the region which comes at a cost of 100 USD million. We are dividing this by 1,000 so that the costs and units are in the same scale."
   ]
  },
  {
   "cell_type": "code",
   "execution_count": 34,
   "metadata": {},
   "outputs": [
    {
     "name": "stdout",
     "output_type": "stream",
     "text": [
      "The minimum amount of units produced by the region to cover the developing costs are: 22222.222222222223\n",
      "The costs for developing each well -scaled : 500.0\n",
      "The units per well needed to meet costs are: 111.11111111111111\n"
     ]
    }
   ],
   "source": [
    "#Defining the variables\n",
    "#The cost for developing 200 oil wells are of 100 million USD. We are dividing this by 1,000 \n",
    "#so that the costs and units are in the same scale.\n",
    "costs = 100000000\n",
    "costs_sc = 100000000/1000\n",
    "rev_p_unit = 4.5\n",
    "n_wells = 200\n",
    "# The min_units variable shows how many units of 4.5 are needed to match the costs of developing the wells of 100,000 USD (scaled amount)\n",
    "min_units = costs_sc/rev_p_unit\n",
    "costs_p_well = costs_sc/n_wells\n",
    "units_p_well = costs_p_well/rev_p_unit\n",
    "\n",
    "print('The minimum amount of units produced by the region to cover the developing costs are:', min_units)\n",
    "print('The costs for developing each well -scaled :', costs_p_well)\n",
    "print('The units per well needed to meet costs are:', units_p_well)"
   ]
  },
  {
   "cell_type": "markdown",
   "metadata": {},
   "source": [
    "Up to this point, the results don't seem very optimistic. Each well costs about 500,000 USD, to cover those costs 111.11 units are needed per well. According to the initial calculations, in average none of the three areas produce that amount. The average produced per well on area 0 is of 92.59, on area 1 is of 68.72 and on area 2 is of 94.96. However, if we consider the RMSE of around 40 for each of the areas 0 and 1, it doesn't seem unlikely to get to that number. More calculations are needed to understand the outliers and the overall risk."
   ]
  },
  {
   "cell_type": "markdown",
   "metadata": {},
   "source": [
    "Comparing the actual average volume with the minimum production needed to cover the expenses:"
   ]
  },
  {
   "cell_type": "code",
   "execution_count": 35,
   "metadata": {},
   "outputs": [
    {
     "name": "stdout",
     "output_type": "stream",
     "text": [
      "The average product reserves/target on region 0 are: 92.49916597893444\n",
      "The average product reserves/target on region 1 are: 68.82414772665173\n",
      "The average product reserves/target on region 2 are: 94.99876686768079\n"
     ]
    }
   ],
   "source": [
    "print('The average product reserves/target on region 0 are:', target_0.mean())\n",
    "print('The average product reserves/target on region 1 are:', target_1.mean())\n",
    "print('The average product reserves/target on region 2 are:', target_2.mean())"
   ]
  },
  {
   "cell_type": "markdown",
   "metadata": {},
   "source": [
    "With out model we obtained a mean of: 92.59 on area 0, 68.72 on area 1 and 94.96 on area 2. The results versus the actual product reserves are really close. This confirms what we discovered in the previous step, up to this point, it seems like any of the areas will generate profit that surpases the costs of production. "
   ]
  },
  {
   "cell_type": "markdown",
   "metadata": {},
   "source": [
    "# Profit calculation"
   ]
  },
  {
   "cell_type": "markdown",
   "metadata": {},
   "source": [
    "First, we will create one variable containing all of the predictions generated by the model so that all of the data can be considered when selecting the best performing wells."
   ]
  },
  {
   "cell_type": "code",
   "execution_count": 36,
   "metadata": {},
   "outputs": [],
   "source": [
    "#Defining a function that creates one series containing all of the predictions both for the train and validation sets.  \n",
    "def predictions(target, target_train, target_valid, predicted_train, predicted_valid):\n",
    "    predicted_train_s = pd.Series(predicted_train, index=target_train.index)\n",
    "    predicted_valid_s = pd.Series(predicted_valid, index=target_valid.index)\n",
    "    predictions = pd.concat([predicted_train_s, predicted_valid_s], axis=0)\n",
    "    return predictions"
   ]
  },
  {
   "cell_type": "code",
   "execution_count": 37,
   "metadata": {},
   "outputs": [],
   "source": [
    "#Applying the function to all three areas\n",
    "predictions_0=predictions(target_0, target_train_0, target_valid_0, predicted_train_0, predicted_valid_0)\n",
    "predictions_1=predictions(target_1, target_train_1, target_valid_1, predicted_train_1, predicted_valid_1)\n",
    "predictions_2=predictions(target_2, target_train_2, target_valid_2, predicted_train_2, predicted_valid_2)"
   ]
  },
  {
   "cell_type": "markdown",
   "metadata": {},
   "source": [
    "Next the revenue function will be created. For it we will need all the predictions, the target, the number of wells to create per region and the revenue per unit. The results will no longer be scaled so that the information is easier to grasp."
   ]
  },
  {
   "cell_type": "code",
   "execution_count": 38,
   "metadata": {},
   "outputs": [],
   "source": [
    "#Creating the revenue function\n",
    "def revenue(target, predictions, n_wells, rev_p_unit):\n",
    "    predict_sorted = predictions.sort_values(ascending=False)\n",
    "    selected = target[predict_sorted.index][:n_wells]\n",
    "    rev = (rev_p_unit * selected.sum())*1000\n",
    "    return rev"
   ]
  },
  {
   "cell_type": "markdown",
   "metadata": {},
   "source": [
    "As an additional information, we are also creating a function to obtain both the gross profit and the gross margin, since it will be easier to compare the areas taking these indicators in consideration."
   ]
  },
  {
   "cell_type": "code",
   "execution_count": 39,
   "metadata": {},
   "outputs": [],
   "source": [
    "#Creating the gross profit function\n",
    "def gross_profit(rev, costs):\n",
    "    gp = rev - costs\n",
    "    return gp"
   ]
  },
  {
   "cell_type": "code",
   "execution_count": 40,
   "metadata": {},
   "outputs": [],
   "source": [
    "#Creating the gross margin function\n",
    "def gross_margin(gp, rev):\n",
    "    gm = (gp/rev)*100\n",
    "    return gm"
   ]
  },
  {
   "cell_type": "code",
   "execution_count": 41,
   "metadata": {},
   "outputs": [
    {
     "name": "stdout",
     "output_type": "stream",
     "text": [
      "The revenue for region 0 is: 135210426.47525114\n"
     ]
    }
   ],
   "source": [
    "#Applying the revenue function to region 0\n",
    "rev_0 = revenue(target_0, predictions_0, n_wells, rev_p_unit)\n",
    "print('The revenue for region 0 is:', rev_0)"
   ]
  },
  {
   "cell_type": "code",
   "execution_count": 42,
   "metadata": {},
   "outputs": [
    {
     "name": "stdout",
     "output_type": "stream",
     "text": [
      "The gross profit for region 0 is: 35210426.47525114\n",
      "The gross margin for region 0 is: 26.041206579358022\n"
     ]
    }
   ],
   "source": [
    "#Applying the gross profit and gross margin funcitons to region 0\n",
    "gp_0=gross_profit(rev_0, costs)\n",
    "print('The gross profit for region 0 is:', gp_0)\n",
    "print('The gross margin for region 0 is:', gross_margin(gp_0, rev_0))"
   ]
  },
  {
   "cell_type": "code",
   "execution_count": 43,
   "metadata": {},
   "outputs": [
    {
     "name": "stdout",
     "output_type": "stream",
     "text": [
      "The revenue for region 1 is: 124150866.96681511\n"
     ]
    }
   ],
   "source": [
    "#Applying the revenue function to region 1\n",
    "rev_1 = revenue(target_1, predictions_1, n_wells, rev_p_unit)\n",
    "print('The revenue for region 1 is:', rev_1)"
   ]
  },
  {
   "cell_type": "code",
   "execution_count": 44,
   "metadata": {},
   "outputs": [
    {
     "name": "stdout",
     "output_type": "stream",
     "text": [
      "The gross profit for region 1 is: 24150866.966815114\n",
      "The gross margin for region 1 is: 19.45283795180465\n"
     ]
    }
   ],
   "source": [
    "#Applying the gross profit and gross margin funcitons to region 1\n",
    "gp_1=gross_profit(rev_1, costs)\n",
    "print('The gross profit for region 1 is:', gp_1)\n",
    "print('The gross margin for region 1 is:', gross_margin(gp_1, rev_1))"
   ]
  },
  {
   "cell_type": "code",
   "execution_count": 45,
   "metadata": {},
   "outputs": [
    {
     "name": "stdout",
     "output_type": "stream",
     "text": [
      "The revenue for region 2 is: 125714106.31960928\n"
     ]
    }
   ],
   "source": [
    "#Applying the revenue function to region 2\n",
    "rev_2 = revenue(target_2, predictions_2, n_wells, rev_p_unit)\n",
    "print('The revenue for region 2 is:', rev_2)"
   ]
  },
  {
   "cell_type": "code",
   "execution_count": 46,
   "metadata": {},
   "outputs": [
    {
     "name": "stdout",
     "output_type": "stream",
     "text": [
      "The gross profit for region 2 is: 25714106.319609284\n",
      "The gross margin for region 2 is: 20.45443194277261\n"
     ]
    }
   ],
   "source": [
    "#Applying the gross profit and gross margin funcitons to region 2\n",
    "gp_2=gross_profit(rev_2, costs)\n",
    "print('The gross profit for region 2 is:', gp_2)\n",
    "print('The gross margin for region 2 is:', gross_margin(gp_2, rev_2))"
   ]
  },
  {
   "cell_type": "markdown",
   "metadata": {},
   "source": [
    "After applying the revenue function we discovered that when we select the top 200 wells of each region, the revenue generated by them in all of the 3 cases, are profitable. However, region 0 is the one that performed better of them all, with the highest gross margin at 25.89%. "
   ]
  },
  {
   "cell_type": "markdown",
   "metadata": {},
   "source": [
    "# Risk calculation"
   ]
  },
  {
   "cell_type": "markdown",
   "metadata": {},
   "source": [
    "As a final step, we will be calculating the risk of each area using the bootstrap technique. With it, we can create many different scenarios to have a better certainty of the situation of each region. We will obtain the average revenue of each area and we will also not be considering outliers located at the limits of 2%."
   ]
  },
  {
   "cell_type": "code",
   "execution_count": 47,
   "metadata": {},
   "outputs": [],
   "source": [
    "#Creating the bootstrapping function\n",
    "def bootstrapping (target, predictions):\n",
    "    state = np.random.RandomState(12345)\n",
    "    \n",
    "    values = []\n",
    "    for i in range(1000):\n",
    "        target_subsample = target.sample(n=500, replace=True, random_state=state)\n",
    "        predict_subsample = predictions[target_subsample.index]\n",
    "    \n",
    "        values.append(revenue(target_subsample, predict_subsample, n_wells, rev_p_unit) - 100000000)\n",
    "\n",
    "    values = pd.Series(values)\n",
    "    lower = values.quantile(0.025)\n",
    "    higher= values.quantile(0.975)\n",
    "    mean = values.mean()\n",
    "    gross_margin = (mean/100000000)*100\n",
    "    negative_profit = values[values < 0]\n",
    "    negative_ps = negative_profit.shape\n",
    "    negative_probs = (negative_ps[0]/1000)*100\n",
    "\n",
    "    \n",
    "    print(\"Average profit:\", mean)\n",
    "    print(\"The confidence interval for 95% of the data is:\", lower, '-', higher)\n",
    "    print('The average gross margin for this region is:', gross_margin)\n",
    "    print('Average losses when there is a negative income are:', negative_profit.mean())\n",
    "    print('Probabilities of obtaining a negative result:', negative_probs)\n",
    "\n"
   ]
  },
  {
   "cell_type": "code",
   "execution_count": 48,
   "metadata": {},
   "outputs": [
    {
     "name": "stdout",
     "output_type": "stream",
     "text": [
      "Average profit: 4318472.52131699\n",
      "The confidence interval for 95% of the data is: -704020.8641633048 - 9396586.955683382\n",
      "The average gross margin for this region is: 4.31847252131699\n",
      "Average losses when there is a negative income are: -1160824.4571503133\n",
      "Probabilities of obtaining a negative result: 4.6\n"
     ]
    }
   ],
   "source": [
    "#Applying the bootstrapping function to region 0:\n",
    "bootstrapping(target_0, predictions_0)"
   ]
  },
  {
   "cell_type": "code",
   "execution_count": 49,
   "metadata": {},
   "outputs": [
    {
     "name": "stdout",
     "output_type": "stream",
     "text": [
      "Average profit: 4611036.9381706\n",
      "The confidence interval for 95% of the data is: 180730.66641306438 - 9036665.160476923\n",
      "The average gross margin for this region is: 4.6110369381706\n",
      "Average losses when there is a negative income are: -705785.7840888003\n",
      "Probabilities of obtaining a negative result: 2.1\n"
     ]
    }
   ],
   "source": [
    "#Applying the bootstrapping function to region 1:\n",
    "bootstrapping(target_1, predictions_1)"
   ]
  },
  {
   "cell_type": "code",
   "execution_count": 50,
   "metadata": {},
   "outputs": [
    {
     "name": "stdout",
     "output_type": "stream",
     "text": [
      "Average profit: 3776187.0470969887\n",
      "The confidence interval for 95% of the data is: -1559429.6241036116 - 9043448.572518725\n",
      "The average gross margin for this region is: 3.7761870470969883\n",
      "Average losses when there is a negative income are: -1259404.9656383125\n",
      "Probabilities of obtaining a negative result: 8.200000000000001\n"
     ]
    }
   ],
   "source": [
    "#Applying the bootstrapping function to region 2:\n",
    "bootstrapping(target_2, predictions_2)"
   ]
  },
  {
   "cell_type": "markdown",
   "metadata": {},
   "source": [
    "<div class=\"alert alert-info\" style=\"border-radius: 15px; box-shadow: 4px 4px 4px; border: 1px solid \">\n",
    "HOW DID WE GET TO THE 500 ROWS INSTEAD OF 200? I see a mention to it on the project's description and I didn't understand what to do whit it. But how would we define it if it wasn't provided to us? That simple change altered my entire results. (Mayus used only to show my confusion :) ) I'll appreciate any advise on how to define this in the future. Thanks!"
   ]
  },
  {
   "cell_type": "markdown",
   "metadata": {},
   "source": [
    "<div class=\"alert alert-info\" style=\"border-radius: 15px; box-shadow: 4px 4px 4px; border: 1px solid \">\n",
    "    \n",
    "- We need to sample 500 rows, not 200. <b> done </b>\n",
    "    \n",
    "- We also need to calculate risk. **As I understand the confidence interaval is used to obtain a true mean without the influence of the outliers that fall beneath or above the range. I am providing the complete range now for 95% confidence**\n",
    "    \n",
    "- I wasn't able to get the 2.5 quantile. It kept giving me an error requesting (as I understood it), for a number no bigger than two digits. **It didn't give me the error anymore, I was able to adjust it to obtain the 2.5 and 97.5 quantiles**\n",
    "\n",
    "I could not produce the error. Everything works fine. Moreover, we need interval here. In the code above, there's only one number. Please see the code below. Would you please update the bootstrapping? **I'm providing a range now**"
   ]
  },
  {
   "cell_type": "markdown",
   "metadata": {},
   "source": [
    "<div class=\"alert alert-danger\" style=\"border-radius: 15px; box-shadow: 4px 4px 4px; border: 1px solid \">\n",
    "<b> Reviewer's comment 2 </b>\n",
    "\n",
    "    \n",
    "- Please note that in the bootstrapping loop above, the revenue function is called, while we need to estimate profit. So we need to subtract budget as well.    \n",
    "    \n",
    "    \n",
    "    \n",
    "-     \n",
    "> As I understand the confidence interaval is used to obtain a true mean without the influence of the outliers that fall beneath or above the range. I am providing the complete range now for 95% confidence\n",
    "\n",
    "\n",
    "That's true, but if we are asked to show it, it's better to print the exact values. We usually do our job for somebody, and the tasks usually have their requirements. You can define these risk values as a share of negative profit values: `(values<0).mean()`\n",
    "\n",
    "\n",
    "</div>"
   ]
  },
  {
   "cell_type": "markdown",
   "metadata": {},
   "source": [
    "<div class=\"alert alert-info\" style=\"border-radius: 15px; box-shadow: 4px 4px 4px; border: 1px solid \">\n",
    "\n",
    "**Student comment 2**\n",
    "    \n",
    "I adjusted the bootstrapping function to consider profit, I'm still using my revenue function, but I am deducting expenses for each iteration.\n",
    "    \n",
    "I also added the average loses in the case of a negative income and the probabilities of getting a negative income. In this case I obtained the percentage of obtaining a negative result on an area out of the 1000 iterations. "
   ]
  },
  {
   "cell_type": "markdown",
   "metadata": {},
   "source": [
    "<div class=\"alert alert-success\" style=\"border-radius: 15px; box-shadow: 4px 4px 4px; border: 1px solid \">\n",
    "<h2>   Reviewer's comment 3 </h2>\n",
    "    \n",
    "Very good! \n",
    "</div>"
   ]
  },
  {
   "cell_type": "code",
   "execution_count": 51,
   "metadata": {},
   "outputs": [],
   "source": [
    "# Reviewer's code \n",
    "\n",
    "#np.percentile(values, [2.5, 97.5]).round(2) "
   ]
  },
  {
   "cell_type": "markdown",
   "metadata": {},
   "source": [
    "<div class=\"alert alert-danger\" style=\"border-radius: 15px; box-shadow: 4px 4px 4px; border: 1px solid \">\n",
    "<b> Reviewer's comment </b>\n",
    "    \n",
    "Same issues here and further. Please try to avoid code repetitions. Would you try to use one loop for all regions or to implement the bootstrapping function? \n",
    "</div>"
   ]
  },
  {
   "cell_type": "markdown",
   "metadata": {},
   "source": [
    "<div class=\"alert alert-info\" style=\"border-radius: 15px; box-shadow: 4px 4px 4px; border: 1px solid \">\n",
    "    I created the function with the updates that were requested and applied it to all three regions."
   ]
  },
  {
   "cell_type": "markdown",
   "metadata": {},
   "source": [
    "<div class=\"alert alert-success\" style=\"border-radius: 15px; box-shadow: 4px 4px 4px; border: 1px solid \">\n",
    "<h2> Reviewer's comment 2 </h2>\n",
    "    \n",
    "It looks perfect! </div>"
   ]
  },
  {
   "cell_type": "markdown",
   "metadata": {},
   "source": [
    "After applying the bootstrapping method to all the areas, we can conclude that the best area for the development is region 1 since it generated the highest gross margin at 4.4% and being the only region that when obtaining the confidence interval both the lowest and highest possible productions are both profitable. While for regions 0 and 2, the lower end of the confidence interval shows loses. This is confirmed as well by the probabilities of obtaining a negative result in each area, being area 1 the one with the lowest probabilities of all 3 regions, at 2.1% versus 4.6% on region 0 and 8.2% on region 2. "
   ]
  },
  {
   "cell_type": "markdown",
   "metadata": {},
   "source": [
    "# Conclusions"
   ]
  },
  {
   "cell_type": "markdown",
   "metadata": {},
   "source": [
    "We were asked to identify the best region to develop the new well for the OilyGiant company. After analizing all three of the areas, it was concluded that the region 1 is the best option for the development since it will generate the highest average profit, when obtaining a confidence interval of 95% the area remains profitable even at the lower end of the interval and it has the lowest probabilities of generating a negative result. \n",
    "\n",
    "To obtain this result, we trained a Linear regression model, evaluated profit for each region using the bootstrapping technique, obtained a confidence interval and evaluated the probabilities of a negative outcome. "
   ]
  },
  {
   "cell_type": "markdown",
   "metadata": {},
   "source": [
    "<div class=\"alert alert-success\" style=\"border-radius: 15px; box-shadow: 4px 4px 4px; border: 1px solid \">\n",
    "<h2> Reviewer's comment </h2>\n",
    "    \n",
    "\n",
    "Good conclusion! \n",
    "\n",
    "</div>\n",
    "<div class=\"alert alert-danger\" style=\"border-radius: 15px; box-shadow: 4px 4px 4px; border: 1px solid \">\n",
    "<b> Reviewer's comment </b>\n",
    "    \n",
    "\n",
    "Please don't forget to update it :)  \n",
    "\n",
    "\n",
    "\n",
    "</div>"
   ]
  },
  {
   "cell_type": "markdown",
   "metadata": {},
   "source": [
    "<div class=\"alert alert-info\" style=\"border-radius: 15px; box-shadow: 4px 4px 4px; border: 1px solid \">\n",
    "    All done, thanks. "
   ]
  },
  {
   "cell_type": "markdown",
   "metadata": {},
   "source": [
    "<div class=\"alert alert-danger\" style=\"border-radius: 15px; box-shadow: 4px 4px 4px; border: 1px solid \">\n",
    "<b> Reviewer's comment 2 </b>\n",
    "    \n",
    "The results may change :) </div>"
   ]
  },
  {
   "cell_type": "markdown",
   "metadata": {},
   "source": [
    "<div class=\"alert alert-info\" style=\"border-radius: 15px; box-shadow: 4px 4px 4px; border: 1px solid \">\n",
    "    \n",
    "**Student comment 2**\n",
    "    \n",
    "The conclusions were adjusted, thanks."
   ]
  },
  {
   "cell_type": "markdown",
   "metadata": {},
   "source": [
    "<div class=\"alert alert-success\" style=\"border-radius: 15px; box-shadow: 4px 4px 4px; border: 1px solid \">\n",
    "<h2>   Reviewer's comment 3 </h2>\n",
    "    \n",
    "Excellent job! \n",
    "</div>"
   ]
  }
 ],
 "metadata": {
  "ExecuteTimeLog": [
   {
    "duration": 312,
    "start_time": "2025-03-30T20:40:42.772Z"
   },
   {
    "duration": 537,
    "start_time": "2025-03-30T20:41:57.920Z"
   },
   {
    "duration": 59,
    "start_time": "2025-03-30T20:42:07.888Z"
   },
   {
    "duration": 61,
    "start_time": "2025-03-30T20:43:40.593Z"
   },
   {
    "duration": 125,
    "start_time": "2025-03-30T20:44:00.848Z"
   },
   {
    "duration": 3,
    "start_time": "2025-03-30T20:44:28.346Z"
   },
   {
    "duration": 314,
    "start_time": "2025-03-30T20:44:42.789Z"
   },
   {
    "duration": 269,
    "start_time": "2025-03-30T20:44:44.950Z"
   },
   {
    "duration": 212,
    "start_time": "2025-03-30T20:44:54.083Z"
   },
   {
    "duration": 14,
    "start_time": "2025-03-30T20:45:20.339Z"
   },
   {
    "duration": 25,
    "start_time": "2025-03-30T20:45:51.836Z"
   },
   {
    "duration": 8,
    "start_time": "2025-03-30T20:47:30.314Z"
   },
   {
    "duration": 7,
    "start_time": "2025-03-30T20:48:34.337Z"
   },
   {
    "duration": 7,
    "start_time": "2025-03-30T20:48:42.249Z"
   },
   {
    "duration": 14,
    "start_time": "2025-03-30T20:49:04.656Z"
   },
   {
    "duration": 14,
    "start_time": "2025-03-30T21:01:29.381Z"
   },
   {
    "duration": 8,
    "start_time": "2025-03-30T21:01:38.910Z"
   },
   {
    "duration": 36,
    "start_time": "2025-03-30T21:02:17.767Z"
   },
   {
    "duration": 32,
    "start_time": "2025-03-30T21:03:00.255Z"
   },
   {
    "duration": 34,
    "start_time": "2025-03-30T21:03:02.925Z"
   },
   {
    "duration": 13,
    "start_time": "2025-03-30T21:10:19.286Z"
   },
   {
    "duration": 58,
    "start_time": "2025-03-30T21:12:12.645Z"
   },
   {
    "duration": 200,
    "start_time": "2025-03-30T21:15:05.349Z"
   },
   {
    "duration": 403,
    "start_time": "2025-03-30T21:15:21.565Z"
   },
   {
    "duration": 38,
    "start_time": "2025-03-30T21:15:39.637Z"
   },
   {
    "duration": 35,
    "start_time": "2025-03-30T21:16:16.737Z"
   },
   {
    "duration": 30,
    "start_time": "2025-03-30T21:16:24.651Z"
   },
   {
    "duration": 5,
    "start_time": "2025-03-30T21:16:49.701Z"
   },
   {
    "duration": 32,
    "start_time": "2025-03-30T21:17:03.986Z"
   },
   {
    "duration": 31,
    "start_time": "2025-03-30T21:17:20.881Z"
   },
   {
    "duration": 30,
    "start_time": "2025-03-30T21:17:26.397Z"
   },
   {
    "duration": 3,
    "start_time": "2025-03-30T21:18:05.246Z"
   },
   {
    "duration": 179,
    "start_time": "2025-03-30T21:18:14.362Z"
   },
   {
    "duration": 43,
    "start_time": "2025-03-30T21:18:48.563Z"
   },
   {
    "duration": 199,
    "start_time": "2025-03-30T21:19:18.039Z"
   },
   {
    "duration": 39,
    "start_time": "2025-03-30T21:19:29.563Z"
   },
   {
    "duration": 13,
    "start_time": "2025-03-30T21:22:52.900Z"
   },
   {
    "duration": 5,
    "start_time": "2025-03-30T21:23:44.606Z"
   },
   {
    "duration": 204,
    "start_time": "2025-03-30T21:23:49.687Z"
   },
   {
    "duration": 196,
    "start_time": "2025-03-30T21:24:31.136Z"
   },
   {
    "duration": 193,
    "start_time": "2025-03-30T21:24:47.353Z"
   },
   {
    "duration": 35,
    "start_time": "2025-03-30T21:25:03.319Z"
   },
   {
    "duration": 28,
    "start_time": "2025-03-30T21:26:06.118Z"
   },
   {
    "duration": 36,
    "start_time": "2025-03-30T21:26:51.408Z"
   },
   {
    "duration": 36,
    "start_time": "2025-03-30T21:27:37.906Z"
   },
   {
    "duration": 41,
    "start_time": "2025-03-30T21:28:57.990Z"
   },
   {
    "duration": 37,
    "start_time": "2025-03-30T21:29:14.544Z"
   },
   {
    "duration": 530,
    "start_time": "2025-03-30T21:57:00.409Z"
   },
   {
    "duration": 20,
    "start_time": "2025-03-30T21:57:37.627Z"
   },
   {
    "duration": 18,
    "start_time": "2025-03-30T22:00:03.705Z"
   },
   {
    "duration": 18,
    "start_time": "2025-03-30T22:01:08.974Z"
   },
   {
    "duration": 17,
    "start_time": "2025-03-30T22:01:25.051Z"
   },
   {
    "duration": 17,
    "start_time": "2025-03-30T22:02:42.404Z"
   },
   {
    "duration": 17,
    "start_time": "2025-03-30T22:12:40.157Z"
   },
   {
    "duration": 16,
    "start_time": "2025-03-30T22:12:45.928Z"
   },
   {
    "duration": 19,
    "start_time": "2025-03-30T22:12:51.763Z"
   },
   {
    "duration": 3,
    "start_time": "2025-03-30T22:29:01.691Z"
   },
   {
    "duration": 17,
    "start_time": "2025-03-30T22:31:01.344Z"
   },
   {
    "duration": 5,
    "start_time": "2025-03-30T22:31:05.778Z"
   },
   {
    "duration": 17,
    "start_time": "2025-03-30T22:31:16.327Z"
   },
   {
    "duration": 5,
    "start_time": "2025-03-30T22:31:21.945Z"
   },
   {
    "duration": 4,
    "start_time": "2025-03-30T22:31:50.145Z"
   },
   {
    "duration": 746,
    "start_time": "2025-03-30T22:32:07.004Z"
   },
   {
    "duration": 219,
    "start_time": "2025-03-30T22:32:07.752Z"
   },
   {
    "duration": 27,
    "start_time": "2025-03-30T22:32:07.973Z"
   },
   {
    "duration": 16,
    "start_time": "2025-03-30T22:32:08.011Z"
   },
   {
    "duration": 45,
    "start_time": "2025-03-30T22:32:08.030Z"
   },
   {
    "duration": 48,
    "start_time": "2025-03-30T22:32:08.077Z"
   },
   {
    "duration": 38,
    "start_time": "2025-03-30T22:32:08.127Z"
   },
   {
    "duration": 81,
    "start_time": "2025-03-30T22:32:08.167Z"
   },
   {
    "duration": 46,
    "start_time": "2025-03-30T22:32:08.250Z"
   },
   {
    "duration": 52,
    "start_time": "2025-03-30T22:32:08.298Z"
   },
   {
    "duration": 41,
    "start_time": "2025-03-30T22:32:08.351Z"
   },
   {
    "duration": 32,
    "start_time": "2025-03-30T22:32:08.394Z"
   },
   {
    "duration": 8,
    "start_time": "2025-03-30T22:32:08.428Z"
   },
   {
    "duration": 87,
    "start_time": "2025-03-30T22:32:08.440Z"
   },
   {
    "duration": 81,
    "start_time": "2025-03-30T22:32:08.532Z"
   },
   {
    "duration": 18,
    "start_time": "2025-03-30T22:32:08.618Z"
   },
   {
    "duration": 75,
    "start_time": "2025-03-30T22:32:08.640Z"
   },
   {
    "duration": 323,
    "start_time": "2025-03-30T22:33:55.270Z"
   },
   {
    "duration": 4,
    "start_time": "2025-03-30T22:34:12.178Z"
   },
   {
    "duration": 19,
    "start_time": "2025-03-30T22:34:18.583Z"
   },
   {
    "duration": 19,
    "start_time": "2025-03-30T22:34:42.874Z"
   },
   {
    "duration": 16,
    "start_time": "2025-03-30T22:34:53.784Z"
   },
   {
    "duration": 23,
    "start_time": "2025-03-30T22:34:53.913Z"
   },
   {
    "duration": 18,
    "start_time": "2025-03-30T23:27:44.330Z"
   },
   {
    "duration": 18,
    "start_time": "2025-03-30T23:32:54.303Z"
   },
   {
    "duration": 5,
    "start_time": "2025-03-30T23:33:00.127Z"
   },
   {
    "duration": 4,
    "start_time": "2025-03-30T23:33:05.883Z"
   },
   {
    "duration": 3,
    "start_time": "2025-03-30T23:34:06.807Z"
   },
   {
    "duration": 62,
    "start_time": "2025-03-30T23:34:35.959Z"
   },
   {
    "duration": 3,
    "start_time": "2025-03-30T23:35:33.711Z"
   },
   {
    "duration": 3,
    "start_time": "2025-03-30T23:36:56.360Z"
   },
   {
    "duration": 14,
    "start_time": "2025-03-30T23:36:58.117Z"
   },
   {
    "duration": 27,
    "start_time": "2025-03-30T23:37:14.673Z"
   },
   {
    "duration": 6,
    "start_time": "2025-03-30T23:37:20.785Z"
   },
   {
    "duration": 36,
    "start_time": "2025-03-30T23:38:07.571Z"
   },
   {
    "duration": 20,
    "start_time": "2025-03-30T23:38:17.940Z"
   },
   {
    "duration": 17,
    "start_time": "2025-03-30T23:38:27.442Z"
   },
   {
    "duration": 20,
    "start_time": "2025-03-30T23:40:03.496Z"
   },
   {
    "duration": 6,
    "start_time": "2025-03-30T23:40:07.094Z"
   },
   {
    "duration": 3,
    "start_time": "2025-03-30T23:40:09.163Z"
   },
   {
    "duration": 16,
    "start_time": "2025-03-30T23:40:10.483Z"
   },
   {
    "duration": 24,
    "start_time": "2025-03-30T23:40:12.848Z"
   },
   {
    "duration": 19,
    "start_time": "2025-03-30T23:40:16.049Z"
   },
   {
    "duration": 5,
    "start_time": "2025-03-30T23:40:20.724Z"
   },
   {
    "duration": 15,
    "start_time": "2025-03-30T23:40:23.864Z"
   },
   {
    "duration": 19,
    "start_time": "2025-03-30T23:40:58.515Z"
   },
   {
    "duration": 16,
    "start_time": "2025-03-30T23:41:08.330Z"
   },
   {
    "duration": 2,
    "start_time": "2025-03-30T23:58:43.864Z"
   },
   {
    "duration": 2,
    "start_time": "2025-03-30T23:59:06.775Z"
   },
   {
    "duration": 3,
    "start_time": "2025-03-31T00:01:44.521Z"
   },
   {
    "duration": 3,
    "start_time": "2025-03-31T00:04:05.726Z"
   },
   {
    "duration": 3,
    "start_time": "2025-03-31T00:07:42.673Z"
   },
   {
    "duration": 4,
    "start_time": "2025-03-31T00:11:55.942Z"
   },
   {
    "duration": 18,
    "start_time": "2025-03-31T00:12:03.543Z"
   },
   {
    "duration": 4,
    "start_time": "2025-03-31T00:12:08.989Z"
   },
   {
    "duration": 4,
    "start_time": "2025-03-31T00:25:53.254Z"
   },
   {
    "duration": 38,
    "start_time": "2025-03-31T00:26:09.819Z"
   },
   {
    "duration": 3,
    "start_time": "2025-03-31T00:26:53.741Z"
   },
   {
    "duration": 16,
    "start_time": "2025-03-31T00:26:56.692Z"
   },
   {
    "duration": 21,
    "start_time": "2025-03-31T00:29:02.365Z"
   },
   {
    "duration": 20,
    "start_time": "2025-03-31T00:30:00.216Z"
   },
   {
    "duration": 5,
    "start_time": "2025-03-31T00:30:09.017Z"
   },
   {
    "duration": 5,
    "start_time": "2025-03-31T00:30:32.385Z"
   },
   {
    "duration": 5,
    "start_time": "2025-03-31T00:30:47.444Z"
   },
   {
    "duration": 14,
    "start_time": "2025-03-31T00:32:11.263Z"
   },
   {
    "duration": 3,
    "start_time": "2025-03-31T00:32:37.415Z"
   },
   {
    "duration": 14,
    "start_time": "2025-03-31T00:32:39.436Z"
   },
   {
    "duration": 16,
    "start_time": "2025-03-31T00:32:48.876Z"
   },
   {
    "duration": 3,
    "start_time": "2025-03-31T00:34:07.620Z"
   },
   {
    "duration": 16,
    "start_time": "2025-03-31T00:34:09.425Z"
   },
   {
    "duration": 3,
    "start_time": "2025-03-31T00:34:14.401Z"
   },
   {
    "duration": 16,
    "start_time": "2025-03-31T00:34:16.769Z"
   },
   {
    "duration": 3,
    "start_time": "2025-03-31T00:34:27.705Z"
   },
   {
    "duration": 16,
    "start_time": "2025-03-31T00:34:29.622Z"
   },
   {
    "duration": 21,
    "start_time": "2025-03-31T00:36:11.118Z"
   },
   {
    "duration": 20,
    "start_time": "2025-03-31T00:37:07.700Z"
   },
   {
    "duration": 5,
    "start_time": "2025-03-31T00:37:45.416Z"
   },
   {
    "duration": 21,
    "start_time": "2025-03-31T00:39:14.056Z"
   },
   {
    "duration": 5,
    "start_time": "2025-03-31T00:40:04.268Z"
   },
   {
    "duration": 5,
    "start_time": "2025-03-31T00:43:17.222Z"
   },
   {
    "duration": 16,
    "start_time": "2025-03-31T00:44:01.175Z"
   },
   {
    "duration": 18,
    "start_time": "2025-03-31T00:44:04.495Z"
   },
   {
    "duration": 3,
    "start_time": "2025-03-31T01:05:43.809Z"
   },
   {
    "duration": 19,
    "start_time": "2025-03-31T01:05:45.393Z"
   },
   {
    "duration": 3,
    "start_time": "2025-03-31T01:06:40.490Z"
   },
   {
    "duration": 19,
    "start_time": "2025-03-31T01:06:42.721Z"
   },
   {
    "duration": 6,
    "start_time": "2025-03-31T01:06:59.956Z"
   },
   {
    "duration": 19,
    "start_time": "2025-03-31T01:07:02.283Z"
   },
   {
    "duration": 3,
    "start_time": "2025-03-31T01:07:14.173Z"
   },
   {
    "duration": 19,
    "start_time": "2025-03-31T01:07:15.806Z"
   },
   {
    "duration": 3,
    "start_time": "2025-03-31T01:07:36.263Z"
   },
   {
    "duration": 21,
    "start_time": "2025-03-31T01:07:39.999Z"
   },
   {
    "duration": 4,
    "start_time": "2025-03-31T01:08:14.286Z"
   },
   {
    "duration": 19,
    "start_time": "2025-03-31T01:08:16.324Z"
   },
   {
    "duration": 4,
    "start_time": "2025-03-31T01:09:43.260Z"
   },
   {
    "duration": 18,
    "start_time": "2025-03-31T01:09:44.665Z"
   },
   {
    "duration": 3,
    "start_time": "2025-03-31T01:11:22.129Z"
   },
   {
    "duration": 31,
    "start_time": "2025-03-31T01:11:23.813Z"
   },
   {
    "duration": 4,
    "start_time": "2025-03-31T01:11:31.583Z"
   },
   {
    "duration": 19,
    "start_time": "2025-03-31T01:11:33.216Z"
   },
   {
    "duration": 3,
    "start_time": "2025-03-31T01:17:36.227Z"
   },
   {
    "duration": 4,
    "start_time": "2025-03-31T01:17:44.257Z"
   },
   {
    "duration": 19,
    "start_time": "2025-03-31T01:17:46.773Z"
   },
   {
    "duration": 22,
    "start_time": "2025-03-31T01:21:16.446Z"
   },
   {
    "duration": 22,
    "start_time": "2025-03-31T01:21:43.419Z"
   },
   {
    "duration": 19,
    "start_time": "2025-03-31T01:22:14.132Z"
   },
   {
    "duration": 20,
    "start_time": "2025-03-31T01:22:34.170Z"
   },
   {
    "duration": 23,
    "start_time": "2025-03-31T01:22:50.669Z"
   },
   {
    "duration": 20,
    "start_time": "2025-03-31T01:23:05.978Z"
   },
   {
    "duration": 4,
    "start_time": "2025-03-31T01:23:43.876Z"
   },
   {
    "duration": 4,
    "start_time": "2025-03-31T01:23:49.784Z"
   },
   {
    "duration": 18,
    "start_time": "2025-03-31T01:23:50.874Z"
   },
   {
    "duration": 4,
    "start_time": "2025-03-31T01:28:57.128Z"
   },
   {
    "duration": 21,
    "start_time": "2025-03-31T01:29:02.044Z"
   },
   {
    "duration": 3,
    "start_time": "2025-03-31T01:35:13.666Z"
   },
   {
    "duration": 18,
    "start_time": "2025-03-31T01:35:15.097Z"
   },
   {
    "duration": 4,
    "start_time": "2025-03-31T01:35:47.205Z"
   },
   {
    "duration": 23,
    "start_time": "2025-03-31T01:35:48.627Z"
   },
   {
    "duration": 4,
    "start_time": "2025-03-31T01:36:47.058Z"
   },
   {
    "duration": 18,
    "start_time": "2025-03-31T01:36:48.121Z"
   },
   {
    "duration": 19,
    "start_time": "2025-03-31T01:39:50.619Z"
   },
   {
    "duration": 19,
    "start_time": "2025-03-31T01:40:07.733Z"
   },
   {
    "duration": 47,
    "start_time": "2025-03-31T01:40:47.366Z"
   },
   {
    "duration": 4,
    "start_time": "2025-03-31T01:43:54.052Z"
   },
   {
    "duration": 17,
    "start_time": "2025-03-31T01:44:08.160Z"
   },
   {
    "duration": 6,
    "start_time": "2025-03-31T01:44:56.273Z"
   },
   {
    "duration": 4,
    "start_time": "2025-03-31T01:45:01.414Z"
   },
   {
    "duration": 18,
    "start_time": "2025-03-31T01:45:03.305Z"
   },
   {
    "duration": 3,
    "start_time": "2025-03-31T01:46:22.176Z"
   },
   {
    "duration": 17,
    "start_time": "2025-03-31T01:46:23.306Z"
   },
   {
    "duration": 5,
    "start_time": "2025-03-31T01:46:47.791Z"
   },
   {
    "duration": 18,
    "start_time": "2025-03-31T01:46:49.668Z"
   },
   {
    "duration": 4,
    "start_time": "2025-03-31T01:47:27.160Z"
   },
   {
    "duration": 17,
    "start_time": "2025-03-31T01:47:28.182Z"
   },
   {
    "duration": 4,
    "start_time": "2025-03-31T01:47:58.242Z"
   },
   {
    "duration": 17,
    "start_time": "2025-03-31T01:47:59.702Z"
   },
   {
    "duration": 15,
    "start_time": "2025-03-31T01:48:40.097Z"
   },
   {
    "duration": 17,
    "start_time": "2025-03-31T01:48:43.421Z"
   },
   {
    "duration": 813,
    "start_time": "2025-04-01T03:11:38.412Z"
   },
   {
    "duration": 320,
    "start_time": "2025-04-01T03:11:39.228Z"
   },
   {
    "duration": 28,
    "start_time": "2025-04-01T03:11:39.550Z"
   },
   {
    "duration": 19,
    "start_time": "2025-04-01T03:11:39.579Z"
   },
   {
    "duration": 40,
    "start_time": "2025-04-01T03:11:39.601Z"
   },
   {
    "duration": 58,
    "start_time": "2025-04-01T03:11:39.643Z"
   },
   {
    "duration": 40,
    "start_time": "2025-04-01T03:11:39.704Z"
   },
   {
    "duration": 84,
    "start_time": "2025-04-01T03:11:39.746Z"
   },
   {
    "duration": 53,
    "start_time": "2025-04-01T03:11:39.833Z"
   },
   {
    "duration": 50,
    "start_time": "2025-04-01T03:11:39.888Z"
   },
   {
    "duration": 55,
    "start_time": "2025-04-01T03:11:39.940Z"
   },
   {
    "duration": 391,
    "start_time": "2025-04-01T03:11:39.997Z"
   },
   {
    "duration": 0,
    "start_time": "2025-04-01T03:11:40.390Z"
   },
   {
    "duration": 0,
    "start_time": "2025-04-01T03:11:40.391Z"
   },
   {
    "duration": 0,
    "start_time": "2025-04-01T03:11:40.392Z"
   },
   {
    "duration": 0,
    "start_time": "2025-04-01T03:11:40.394Z"
   },
   {
    "duration": 0,
    "start_time": "2025-04-01T03:11:40.395Z"
   },
   {
    "duration": 0,
    "start_time": "2025-04-01T03:11:40.396Z"
   },
   {
    "duration": 0,
    "start_time": "2025-04-01T03:11:40.397Z"
   },
   {
    "duration": 0,
    "start_time": "2025-04-01T03:11:40.398Z"
   },
   {
    "duration": 0,
    "start_time": "2025-04-01T03:11:40.399Z"
   },
   {
    "duration": 0,
    "start_time": "2025-04-01T03:11:40.400Z"
   },
   {
    "duration": 0,
    "start_time": "2025-04-01T03:11:40.402Z"
   },
   {
    "duration": 28,
    "start_time": "2025-04-01T03:12:00.668Z"
   },
   {
    "duration": 745,
    "start_time": "2025-04-01T03:12:09.054Z"
   },
   {
    "duration": 220,
    "start_time": "2025-04-01T03:12:09.802Z"
   },
   {
    "duration": 28,
    "start_time": "2025-04-01T03:12:10.024Z"
   },
   {
    "duration": 14,
    "start_time": "2025-04-01T03:12:10.054Z"
   },
   {
    "duration": 55,
    "start_time": "2025-04-01T03:12:10.071Z"
   },
   {
    "duration": 38,
    "start_time": "2025-04-01T03:12:10.128Z"
   },
   {
    "duration": 39,
    "start_time": "2025-04-01T03:12:10.188Z"
   },
   {
    "duration": 75,
    "start_time": "2025-04-01T03:12:10.229Z"
   },
   {
    "duration": 38,
    "start_time": "2025-04-01T03:12:10.305Z"
   },
   {
    "duration": 49,
    "start_time": "2025-04-01T03:12:10.345Z"
   },
   {
    "duration": 37,
    "start_time": "2025-04-01T03:12:10.395Z"
   },
   {
    "duration": 21,
    "start_time": "2025-04-01T03:12:10.434Z"
   },
   {
    "duration": 22,
    "start_time": "2025-04-01T03:12:10.487Z"
   },
   {
    "duration": 98,
    "start_time": "2025-04-01T03:12:10.513Z"
   },
   {
    "duration": 9,
    "start_time": "2025-04-01T03:12:10.617Z"
   },
   {
    "duration": 102,
    "start_time": "2025-04-01T03:12:10.689Z"
   },
   {
    "duration": 7,
    "start_time": "2025-04-01T03:12:10.802Z"
   },
   {
    "duration": 4,
    "start_time": "2025-04-01T03:12:10.811Z"
   },
   {
    "duration": 74,
    "start_time": "2025-04-01T03:12:10.816Z"
   },
   {
    "duration": 19,
    "start_time": "2025-04-01T03:12:10.892Z"
   },
   {
    "duration": 19,
    "start_time": "2025-04-01T03:12:10.913Z"
   },
   {
    "duration": 19,
    "start_time": "2025-04-01T03:12:10.933Z"
   },
   {
    "duration": 34,
    "start_time": "2025-04-01T03:12:10.954Z"
   },
   {
    "duration": 4,
    "start_time": "2025-04-01T03:24:39.579Z"
   },
   {
    "duration": 18,
    "start_time": "2025-04-01T03:24:41.318Z"
   },
   {
    "duration": 4,
    "start_time": "2025-04-01T03:31:44.182Z"
   },
   {
    "duration": 21,
    "start_time": "2025-04-01T03:31:51.303Z"
   },
   {
    "duration": 4,
    "start_time": "2025-04-01T03:34:02.400Z"
   },
   {
    "duration": 20,
    "start_time": "2025-04-01T03:34:03.818Z"
   },
   {
    "duration": 20,
    "start_time": "2025-04-01T03:34:09.011Z"
   },
   {
    "duration": 19,
    "start_time": "2025-04-01T03:34:11.738Z"
   },
   {
    "duration": 3,
    "start_time": "2025-04-01T04:02:53.958Z"
   },
   {
    "duration": 123,
    "start_time": "2025-04-01T04:03:38.288Z"
   },
   {
    "duration": 5,
    "start_time": "2025-04-01T04:03:50.437Z"
   },
   {
    "duration": 6,
    "start_time": "2025-04-01T04:05:00.318Z"
   },
   {
    "duration": 3,
    "start_time": "2025-04-01T04:11:13.621Z"
   },
   {
    "duration": 5,
    "start_time": "2025-04-01T04:11:14.634Z"
   },
   {
    "duration": 4,
    "start_time": "2025-04-01T04:11:15.823Z"
   },
   {
    "duration": 17,
    "start_time": "2025-04-01T04:11:49.493Z"
   },
   {
    "duration": 16,
    "start_time": "2025-04-01T04:12:21.398Z"
   },
   {
    "duration": 20,
    "start_time": "2025-04-01T04:12:53.178Z"
   },
   {
    "duration": 21,
    "start_time": "2025-04-01T04:13:01.439Z"
   },
   {
    "duration": 3,
    "start_time": "2025-04-01T04:13:26.877Z"
   },
   {
    "duration": 17,
    "start_time": "2025-04-01T04:13:33.803Z"
   },
   {
    "duration": 4,
    "start_time": "2025-04-01T04:13:51.999Z"
   },
   {
    "duration": 16,
    "start_time": "2025-04-01T04:13:56.187Z"
   },
   {
    "duration": 3,
    "start_time": "2025-04-01T04:14:06.377Z"
   },
   {
    "duration": 16,
    "start_time": "2025-04-01T04:14:10.557Z"
   },
   {
    "duration": 109,
    "start_time": "2025-04-01T04:17:21.630Z"
   },
   {
    "duration": 1458,
    "start_time": "2025-04-01T04:17:38.287Z"
   },
   {
    "duration": 3,
    "start_time": "2025-04-01T04:22:38.851Z"
   },
   {
    "duration": 17,
    "start_time": "2025-04-01T04:22:47.989Z"
   },
   {
    "duration": 3,
    "start_time": "2025-04-01T04:24:17.701Z"
   },
   {
    "duration": 2,
    "start_time": "2025-04-01T04:25:15.218Z"
   },
   {
    "duration": 16,
    "start_time": "2025-04-01T04:25:38.513Z"
   },
   {
    "duration": 17,
    "start_time": "2025-04-01T04:25:56.349Z"
   },
   {
    "duration": 15,
    "start_time": "2025-04-01T04:26:12.722Z"
   },
   {
    "duration": 18,
    "start_time": "2025-04-01T04:27:17.903Z"
   },
   {
    "duration": 3,
    "start_time": "2025-04-01T04:27:34.149Z"
   },
   {
    "duration": 3,
    "start_time": "2025-04-01T04:28:02.079Z"
   },
   {
    "duration": 4,
    "start_time": "2025-04-01T04:34:22.562Z"
   },
   {
    "duration": 2,
    "start_time": "2025-04-01T04:34:34.528Z"
   },
   {
    "duration": 3,
    "start_time": "2025-04-01T04:34:37.077Z"
   },
   {
    "duration": 3,
    "start_time": "2025-04-01T04:34:38.777Z"
   },
   {
    "duration": 16,
    "start_time": "2025-04-01T04:34:40.748Z"
   },
   {
    "duration": 4,
    "start_time": "2025-04-01T04:34:45.015Z"
   },
   {
    "duration": 3,
    "start_time": "2025-04-01T04:36:28.741Z"
   },
   {
    "duration": 3,
    "start_time": "2025-04-01T04:37:17.757Z"
   },
   {
    "duration": 4,
    "start_time": "2025-04-01T04:38:28.327Z"
   },
   {
    "duration": 592,
    "start_time": "2025-04-01T04:39:28.088Z"
   },
   {
    "duration": 621,
    "start_time": "2025-04-01T04:41:50.142Z"
   },
   {
    "duration": 623,
    "start_time": "2025-04-01T04:42:26.418Z"
   },
   {
    "duration": 765,
    "start_time": "2025-04-03T03:19:40.116Z"
   },
   {
    "duration": 285,
    "start_time": "2025-04-03T03:19:40.883Z"
   },
   {
    "duration": 27,
    "start_time": "2025-04-03T03:19:41.170Z"
   },
   {
    "duration": 13,
    "start_time": "2025-04-03T03:19:41.199Z"
   },
   {
    "duration": 57,
    "start_time": "2025-04-03T03:19:41.217Z"
   },
   {
    "duration": 36,
    "start_time": "2025-04-03T03:19:41.276Z"
   },
   {
    "duration": 38,
    "start_time": "2025-04-03T03:19:41.314Z"
   },
   {
    "duration": 72,
    "start_time": "2025-04-03T03:19:41.354Z"
   },
   {
    "duration": 58,
    "start_time": "2025-04-03T03:19:41.427Z"
   },
   {
    "duration": 35,
    "start_time": "2025-04-03T03:19:41.488Z"
   },
   {
    "duration": 61,
    "start_time": "2025-04-03T03:19:41.525Z"
   },
   {
    "duration": 22,
    "start_time": "2025-04-03T03:19:41.588Z"
   },
   {
    "duration": 5,
    "start_time": "2025-04-03T03:19:41.612Z"
   },
   {
    "duration": 151,
    "start_time": "2025-04-03T03:19:41.621Z"
   },
   {
    "duration": 5,
    "start_time": "2025-04-03T03:19:41.774Z"
   },
   {
    "duration": 95,
    "start_time": "2025-04-03T03:19:41.784Z"
   },
   {
    "duration": 4,
    "start_time": "2025-04-03T03:19:41.881Z"
   },
   {
    "duration": 4,
    "start_time": "2025-04-03T03:19:41.887Z"
   },
   {
    "duration": 3,
    "start_time": "2025-04-03T03:19:41.892Z"
   },
   {
    "duration": 77,
    "start_time": "2025-04-03T03:19:41.897Z"
   },
   {
    "duration": 3,
    "start_time": "2025-04-03T03:19:41.976Z"
   },
   {
    "duration": 4,
    "start_time": "2025-04-03T03:19:41.980Z"
   },
   {
    "duration": 4,
    "start_time": "2025-04-03T03:19:41.985Z"
   },
   {
    "duration": 18,
    "start_time": "2025-04-03T03:19:41.990Z"
   },
   {
    "duration": 3,
    "start_time": "2025-04-03T03:19:42.010Z"
   },
   {
    "duration": 59,
    "start_time": "2025-04-03T03:19:42.015Z"
   },
   {
    "duration": 4,
    "start_time": "2025-04-03T03:19:42.076Z"
   },
   {
    "duration": 15,
    "start_time": "2025-04-03T03:19:42.081Z"
   },
   {
    "duration": 3,
    "start_time": "2025-04-03T03:19:42.098Z"
   },
   {
    "duration": 596,
    "start_time": "2025-04-03T03:19:42.103Z"
   },
   {
    "duration": 570,
    "start_time": "2025-04-03T03:19:42.701Z"
   },
   {
    "duration": 580,
    "start_time": "2025-04-03T03:19:43.273Z"
   },
   {
    "duration": 37,
    "start_time": "2025-04-03T03:21:10.223Z"
   },
   {
    "duration": 36,
    "start_time": "2025-04-03T03:21:22.140Z"
   },
   {
    "duration": 41,
    "start_time": "2025-04-03T03:21:42.660Z"
   },
   {
    "duration": 211,
    "start_time": "2025-04-03T03:23:29.191Z"
   },
   {
    "duration": 13,
    "start_time": "2025-04-03T03:23:36.660Z"
   },
   {
    "duration": 5,
    "start_time": "2025-04-03T03:23:49.411Z"
   },
   {
    "duration": 697,
    "start_time": "2025-04-03T03:23:55.021Z"
   },
   {
    "duration": 38,
    "start_time": "2025-04-03T03:24:29.182Z"
   },
   {
    "duration": 714,
    "start_time": "2025-04-03T03:24:58.257Z"
   },
   {
    "duration": 225,
    "start_time": "2025-04-03T03:24:58.973Z"
   },
   {
    "duration": 27,
    "start_time": "2025-04-03T03:24:59.200Z"
   },
   {
    "duration": 14,
    "start_time": "2025-04-03T03:24:59.229Z"
   },
   {
    "duration": 59,
    "start_time": "2025-04-03T03:24:59.247Z"
   },
   {
    "duration": 36,
    "start_time": "2025-04-03T03:24:59.308Z"
   },
   {
    "duration": 52,
    "start_time": "2025-04-03T03:24:59.346Z"
   },
   {
    "duration": 71,
    "start_time": "2025-04-03T03:24:59.400Z"
   },
   {
    "duration": 38,
    "start_time": "2025-04-03T03:24:59.473Z"
   },
   {
    "duration": 912,
    "start_time": "2025-04-03T03:24:59.513Z"
   },
   {
    "duration": 0,
    "start_time": "2025-04-03T03:25:00.427Z"
   },
   {
    "duration": 0,
    "start_time": "2025-04-03T03:25:00.428Z"
   },
   {
    "duration": 0,
    "start_time": "2025-04-03T03:25:00.430Z"
   },
   {
    "duration": 0,
    "start_time": "2025-04-03T03:25:00.432Z"
   },
   {
    "duration": 0,
    "start_time": "2025-04-03T03:25:00.433Z"
   },
   {
    "duration": 0,
    "start_time": "2025-04-03T03:25:00.435Z"
   },
   {
    "duration": 0,
    "start_time": "2025-04-03T03:25:00.436Z"
   },
   {
    "duration": 0,
    "start_time": "2025-04-03T03:25:00.438Z"
   },
   {
    "duration": 0,
    "start_time": "2025-04-03T03:25:00.439Z"
   },
   {
    "duration": 0,
    "start_time": "2025-04-03T03:25:00.441Z"
   },
   {
    "duration": 0,
    "start_time": "2025-04-03T03:25:00.442Z"
   },
   {
    "duration": 0,
    "start_time": "2025-04-03T03:25:00.443Z"
   },
   {
    "duration": 0,
    "start_time": "2025-04-03T03:25:00.470Z"
   },
   {
    "duration": 0,
    "start_time": "2025-04-03T03:25:00.472Z"
   },
   {
    "duration": 0,
    "start_time": "2025-04-03T03:25:00.473Z"
   },
   {
    "duration": 0,
    "start_time": "2025-04-03T03:25:00.474Z"
   },
   {
    "duration": 0,
    "start_time": "2025-04-03T03:25:00.475Z"
   },
   {
    "duration": 0,
    "start_time": "2025-04-03T03:25:00.477Z"
   },
   {
    "duration": 0,
    "start_time": "2025-04-03T03:25:00.478Z"
   },
   {
    "duration": 0,
    "start_time": "2025-04-03T03:25:00.479Z"
   },
   {
    "duration": 0,
    "start_time": "2025-04-03T03:25:00.481Z"
   },
   {
    "duration": 0,
    "start_time": "2025-04-03T03:25:00.483Z"
   },
   {
    "duration": 0,
    "start_time": "2025-04-03T03:25:00.484Z"
   },
   {
    "duration": 752,
    "start_time": "2025-04-03T03:25:29.820Z"
   },
   {
    "duration": 232,
    "start_time": "2025-04-03T03:25:30.574Z"
   },
   {
    "duration": 27,
    "start_time": "2025-04-03T03:25:30.808Z"
   },
   {
    "duration": 14,
    "start_time": "2025-04-03T03:25:30.837Z"
   },
   {
    "duration": 57,
    "start_time": "2025-04-03T03:25:30.852Z"
   },
   {
    "duration": 36,
    "start_time": "2025-04-03T03:25:30.910Z"
   },
   {
    "duration": 57,
    "start_time": "2025-04-03T03:25:30.948Z"
   },
   {
    "duration": 68,
    "start_time": "2025-04-03T03:25:31.007Z"
   },
   {
    "duration": 38,
    "start_time": "2025-04-03T03:25:31.077Z"
   },
   {
    "duration": 52,
    "start_time": "2025-04-03T03:25:31.118Z"
   },
   {
    "duration": 37,
    "start_time": "2025-04-03T03:25:31.172Z"
   },
   {
    "duration": 59,
    "start_time": "2025-04-03T03:25:31.211Z"
   },
   {
    "duration": 8,
    "start_time": "2025-04-03T03:25:31.274Z"
   },
   {
    "duration": 100,
    "start_time": "2025-04-03T03:25:31.285Z"
   },
   {
    "duration": 8,
    "start_time": "2025-04-03T03:25:31.387Z"
   },
   {
    "duration": 94,
    "start_time": "2025-04-03T03:25:31.397Z"
   },
   {
    "duration": 8,
    "start_time": "2025-04-03T03:25:31.571Z"
   },
   {
    "duration": 5,
    "start_time": "2025-04-03T03:25:31.585Z"
   },
   {
    "duration": 5,
    "start_time": "2025-04-03T03:25:31.591Z"
   },
   {
    "duration": 5,
    "start_time": "2025-04-03T03:25:31.598Z"
   },
   {
    "duration": 2,
    "start_time": "2025-04-03T03:25:31.605Z"
   },
   {
    "duration": 63,
    "start_time": "2025-04-03T03:25:31.609Z"
   },
   {
    "duration": 3,
    "start_time": "2025-04-03T03:25:31.675Z"
   },
   {
    "duration": 18,
    "start_time": "2025-04-03T03:25:31.681Z"
   },
   {
    "duration": 3,
    "start_time": "2025-04-03T03:25:31.701Z"
   },
   {
    "duration": 18,
    "start_time": "2025-04-03T03:25:31.705Z"
   },
   {
    "duration": 4,
    "start_time": "2025-04-03T03:25:31.724Z"
   },
   {
    "duration": 46,
    "start_time": "2025-04-03T03:25:31.731Z"
   },
   {
    "duration": 4,
    "start_time": "2025-04-03T03:25:31.778Z"
   },
   {
    "duration": 599,
    "start_time": "2025-04-03T03:25:31.784Z"
   },
   {
    "duration": 598,
    "start_time": "2025-04-03T03:25:32.386Z"
   },
   {
    "duration": 585,
    "start_time": "2025-04-03T03:25:32.985Z"
   },
   {
    "duration": 907,
    "start_time": "2025-04-03T03:25:53.927Z"
   },
   {
    "duration": 4,
    "start_time": "2025-04-03T03:26:23.396Z"
   },
   {
    "duration": 39,
    "start_time": "2025-04-03T03:28:43.976Z"
   },
   {
    "duration": 217,
    "start_time": "2025-04-03T03:31:14.428Z"
   },
   {
    "duration": 32,
    "start_time": "2025-04-03T03:34:24.248Z"
   },
   {
    "duration": 17,
    "start_time": "2025-04-03T03:40:28.354Z"
   },
   {
    "duration": 17,
    "start_time": "2025-04-03T03:40:39.897Z"
   },
   {
    "duration": 21,
    "start_time": "2025-04-03T03:41:51.979Z"
   },
   {
    "duration": 16,
    "start_time": "2025-04-03T03:42:35.091Z"
   },
   {
    "duration": 16,
    "start_time": "2025-04-03T03:42:55.282Z"
   },
   {
    "duration": 1975,
    "start_time": "2025-04-03T04:00:25.053Z"
   },
   {
    "duration": 4,
    "start_time": "2025-04-03T04:02:35.420Z"
   },
   {
    "duration": 109,
    "start_time": "2025-04-03T04:02:42.897Z"
   },
   {
    "duration": 81,
    "start_time": "2025-04-03T04:04:19.502Z"
   },
   {
    "duration": 89,
    "start_time": "2025-04-03T04:05:41.541Z"
   },
   {
    "duration": 98,
    "start_time": "2025-04-03T04:07:37.741Z"
   },
   {
    "duration": 107,
    "start_time": "2025-04-03T04:08:07.131Z"
   },
   {
    "duration": 103,
    "start_time": "2025-04-03T04:08:24.572Z"
   },
   {
    "duration": 100,
    "start_time": "2025-04-03T04:08:51.256Z"
   },
   {
    "duration": 102,
    "start_time": "2025-04-03T04:09:12.481Z"
   },
   {
    "duration": 86,
    "start_time": "2025-04-03T04:10:30.322Z"
   },
   {
    "duration": 198,
    "start_time": "2025-04-03T04:10:45.207Z"
   },
   {
    "duration": 93,
    "start_time": "2025-04-03T04:13:53.501Z"
   },
   {
    "duration": 89,
    "start_time": "2025-04-03T04:14:25.017Z"
   },
   {
    "duration": 87,
    "start_time": "2025-04-03T04:14:49.297Z"
   },
   {
    "duration": 100,
    "start_time": "2025-04-03T04:16:47.056Z"
   },
   {
    "duration": 96,
    "start_time": "2025-04-03T04:17:25.351Z"
   },
   {
    "duration": 90,
    "start_time": "2025-04-03T04:17:48.301Z"
   },
   {
    "duration": 4,
    "start_time": "2025-04-03T04:30:12.106Z"
   },
   {
    "duration": 29,
    "start_time": "2025-04-03T04:50:26.317Z"
   },
   {
    "duration": 3,
    "start_time": "2025-04-03T04:51:02.966Z"
   },
   {
    "duration": 3,
    "start_time": "2025-04-03T04:51:17.358Z"
   },
   {
    "duration": 591,
    "start_time": "2025-04-03T04:52:15.072Z"
   },
   {
    "duration": 3,
    "start_time": "2025-04-03T04:52:19.397Z"
   },
   {
    "duration": 3,
    "start_time": "2025-04-03T04:52:36.621Z"
   },
   {
    "duration": 3,
    "start_time": "2025-04-03T04:53:21.161Z"
   },
   {
    "duration": 899,
    "start_time": "2025-04-03T04:53:57.030Z"
   },
   {
    "duration": 219,
    "start_time": "2025-04-03T04:53:57.931Z"
   },
   {
    "duration": 31,
    "start_time": "2025-04-03T04:53:58.152Z"
   },
   {
    "duration": 14,
    "start_time": "2025-04-03T04:53:58.184Z"
   },
   {
    "duration": 46,
    "start_time": "2025-04-03T04:53:58.200Z"
   },
   {
    "duration": 54,
    "start_time": "2025-04-03T04:53:58.248Z"
   },
   {
    "duration": 38,
    "start_time": "2025-04-03T04:53:58.304Z"
   },
   {
    "duration": 77,
    "start_time": "2025-04-03T04:53:58.344Z"
   },
   {
    "duration": 50,
    "start_time": "2025-04-03T04:53:58.422Z"
   },
   {
    "duration": 16,
    "start_time": "2025-04-03T04:53:58.474Z"
   },
   {
    "duration": 37,
    "start_time": "2025-04-03T04:53:58.492Z"
   },
   {
    "duration": 16,
    "start_time": "2025-04-03T04:53:58.530Z"
   },
   {
    "duration": 72,
    "start_time": "2025-04-03T04:53:58.547Z"
   },
   {
    "duration": 16,
    "start_time": "2025-04-03T04:53:58.624Z"
   },
   {
    "duration": 166,
    "start_time": "2025-04-03T04:53:58.641Z"
   },
   {
    "duration": 92,
    "start_time": "2025-04-03T04:53:58.808Z"
   },
   {
    "duration": 111,
    "start_time": "2025-04-03T04:53:58.902Z"
   },
   {
    "duration": 104,
    "start_time": "2025-04-03T04:53:59.015Z"
   },
   {
    "duration": 100,
    "start_time": "2025-04-03T04:53:59.121Z"
   },
   {
    "duration": 95,
    "start_time": "2025-04-03T04:53:59.223Z"
   },
   {
    "duration": 107,
    "start_time": "2025-04-03T04:53:59.320Z"
   },
   {
    "duration": 104,
    "start_time": "2025-04-03T04:53:59.429Z"
   },
   {
    "duration": 101,
    "start_time": "2025-04-03T04:53:59.535Z"
   },
   {
    "duration": 35,
    "start_time": "2025-04-03T04:53:59.638Z"
   },
   {
    "duration": 6,
    "start_time": "2025-04-03T04:53:59.674Z"
   },
   {
    "duration": 97,
    "start_time": "2025-04-03T04:53:59.681Z"
   },
   {
    "duration": 7,
    "start_time": "2025-04-03T04:53:59.782Z"
   },
   {
    "duration": 99,
    "start_time": "2025-04-03T04:53:59.792Z"
   },
   {
    "duration": 78,
    "start_time": "2025-04-03T04:53:59.894Z"
   },
   {
    "duration": 4,
    "start_time": "2025-04-03T04:53:59.973Z"
   },
   {
    "duration": 3,
    "start_time": "2025-04-03T04:53:59.979Z"
   },
   {
    "duration": 5,
    "start_time": "2025-04-03T04:53:59.984Z"
   },
   {
    "duration": 3,
    "start_time": "2025-04-03T04:53:59.991Z"
   },
   {
    "duration": 2,
    "start_time": "2025-04-03T04:53:59.996Z"
   },
   {
    "duration": 3,
    "start_time": "2025-04-03T04:54:00.070Z"
   },
   {
    "duration": 20,
    "start_time": "2025-04-03T04:54:00.074Z"
   },
   {
    "duration": 3,
    "start_time": "2025-04-03T04:54:00.096Z"
   },
   {
    "duration": 17,
    "start_time": "2025-04-03T04:54:00.101Z"
   },
   {
    "duration": 4,
    "start_time": "2025-04-03T04:54:00.119Z"
   },
   {
    "duration": 45,
    "start_time": "2025-04-03T04:54:00.125Z"
   },
   {
    "duration": 3,
    "start_time": "2025-04-03T04:54:00.174Z"
   },
   {
    "duration": 606,
    "start_time": "2025-04-03T04:54:00.179Z"
   },
   {
    "duration": 3,
    "start_time": "2025-04-03T04:54:00.787Z"
   },
   {
    "duration": 600,
    "start_time": "2025-04-03T04:54:00.791Z"
   },
   {
    "duration": 4,
    "start_time": "2025-04-03T04:54:01.393Z"
   },
   {
    "duration": 602,
    "start_time": "2025-04-03T04:54:01.398Z"
   },
   {
    "duration": 4,
    "start_time": "2025-04-03T04:54:02.001Z"
   },
   {
    "duration": 2814,
    "start_time": "2025-04-03T08:45:23.519Z"
   },
   {
    "duration": 307,
    "start_time": "2025-04-03T08:45:26.335Z"
   },
   {
    "duration": 27,
    "start_time": "2025-04-03T08:45:26.644Z"
   },
   {
    "duration": 27,
    "start_time": "2025-04-03T08:45:26.672Z"
   },
   {
    "duration": 43,
    "start_time": "2025-04-03T08:45:26.701Z"
   },
   {
    "duration": 60,
    "start_time": "2025-04-03T08:45:26.746Z"
   },
   {
    "duration": 42,
    "start_time": "2025-04-03T08:45:26.808Z"
   },
   {
    "duration": 80,
    "start_time": "2025-04-03T08:45:26.851Z"
   },
   {
    "duration": 66,
    "start_time": "2025-04-03T08:45:26.933Z"
   },
   {
    "duration": 18,
    "start_time": "2025-04-03T08:45:27.001Z"
   },
   {
    "duration": 44,
    "start_time": "2025-04-03T08:45:27.020Z"
   },
   {
    "duration": 34,
    "start_time": "2025-04-03T08:45:27.066Z"
   },
   {
    "duration": 43,
    "start_time": "2025-04-03T08:45:27.103Z"
   },
   {
    "duration": 38,
    "start_time": "2025-04-03T08:45:27.149Z"
   },
   {
    "duration": 118,
    "start_time": "2025-04-03T08:45:27.189Z"
   },
   {
    "duration": 95,
    "start_time": "2025-04-03T08:45:27.309Z"
   },
   {
    "duration": 107,
    "start_time": "2025-04-03T08:45:27.405Z"
   },
   {
    "duration": 103,
    "start_time": "2025-04-03T08:45:27.514Z"
   },
   {
    "duration": 156,
    "start_time": "2025-04-03T08:45:27.619Z"
   },
   {
    "duration": 110,
    "start_time": "2025-04-03T08:45:27.778Z"
   },
   {
    "duration": 111,
    "start_time": "2025-04-03T08:45:27.890Z"
   },
   {
    "duration": 106,
    "start_time": "2025-04-03T08:45:28.003Z"
   },
   {
    "duration": 110,
    "start_time": "2025-04-03T08:45:28.112Z"
   },
   {
    "duration": 23,
    "start_time": "2025-04-03T08:45:28.224Z"
   },
   {
    "duration": 39,
    "start_time": "2025-04-03T08:45:28.249Z"
   },
   {
    "duration": 103,
    "start_time": "2025-04-03T08:45:28.290Z"
   },
   {
    "duration": 5,
    "start_time": "2025-04-03T08:45:28.395Z"
   },
   {
    "duration": 100,
    "start_time": "2025-04-03T08:45:28.402Z"
   },
   {
    "duration": 5,
    "start_time": "2025-04-03T08:45:28.504Z"
   },
   {
    "duration": 77,
    "start_time": "2025-04-03T08:45:28.513Z"
   },
   {
    "duration": 5,
    "start_time": "2025-04-03T08:45:28.595Z"
   },
   {
    "duration": 6,
    "start_time": "2025-04-03T08:45:28.602Z"
   },
   {
    "duration": 4,
    "start_time": "2025-04-03T08:45:28.609Z"
   },
   {
    "duration": 4,
    "start_time": "2025-04-03T08:45:28.614Z"
   },
   {
    "duration": 3,
    "start_time": "2025-04-03T08:45:28.619Z"
   },
   {
    "duration": 80,
    "start_time": "2025-04-03T08:45:28.624Z"
   },
   {
    "duration": 3,
    "start_time": "2025-04-03T08:45:28.706Z"
   },
   {
    "duration": 19,
    "start_time": "2025-04-03T08:45:28.711Z"
   },
   {
    "duration": 3,
    "start_time": "2025-04-03T08:45:28.732Z"
   },
   {
    "duration": 18,
    "start_time": "2025-04-03T08:45:28.737Z"
   },
   {
    "duration": 3,
    "start_time": "2025-04-03T08:45:28.786Z"
   },
   {
    "duration": 632,
    "start_time": "2025-04-03T08:45:28.791Z"
   },
   {
    "duration": 5,
    "start_time": "2025-04-03T08:45:50.522Z"
   },
   {
    "duration": 5,
    "start_time": "2025-04-03T08:46:13.833Z"
   },
   {
    "duration": 5,
    "start_time": "2025-04-03T08:47:29.855Z"
   },
   {
    "duration": 2903,
    "start_time": "2025-04-04T02:49:33.032Z"
   },
   {
    "duration": 331,
    "start_time": "2025-04-04T02:49:35.938Z"
   },
   {
    "duration": 29,
    "start_time": "2025-04-04T02:49:36.271Z"
   },
   {
    "duration": 19,
    "start_time": "2025-04-04T02:49:36.302Z"
   },
   {
    "duration": 46,
    "start_time": "2025-04-04T02:49:36.324Z"
   },
   {
    "duration": 65,
    "start_time": "2025-04-04T02:49:36.371Z"
   },
   {
    "duration": 53,
    "start_time": "2025-04-04T02:49:36.437Z"
   },
   {
    "duration": 98,
    "start_time": "2025-04-04T02:49:36.491Z"
   },
   {
    "duration": 72,
    "start_time": "2025-04-04T02:49:36.591Z"
   },
   {
    "duration": 21,
    "start_time": "2025-04-04T02:49:36.665Z"
   },
   {
    "duration": 76,
    "start_time": "2025-04-04T02:49:36.688Z"
   },
   {
    "duration": 21,
    "start_time": "2025-04-04T02:49:36.766Z"
   },
   {
    "duration": 80,
    "start_time": "2025-04-04T02:49:36.789Z"
   },
   {
    "duration": 19,
    "start_time": "2025-04-04T02:49:36.873Z"
   },
   {
    "duration": 139,
    "start_time": "2025-04-04T02:49:36.894Z"
   },
   {
    "duration": 118,
    "start_time": "2025-04-04T02:49:37.035Z"
   },
   {
    "duration": 124,
    "start_time": "2025-04-04T02:49:37.154Z"
   },
   {
    "duration": 175,
    "start_time": "2025-04-04T02:49:37.280Z"
   },
   {
    "duration": 122,
    "start_time": "2025-04-04T02:49:37.458Z"
   },
   {
    "duration": 114,
    "start_time": "2025-04-04T02:49:37.582Z"
   },
   {
    "duration": 142,
    "start_time": "2025-04-04T02:49:37.700Z"
   },
   {
    "duration": 122,
    "start_time": "2025-04-04T02:49:37.844Z"
   },
   {
    "duration": 106,
    "start_time": "2025-04-04T02:49:37.968Z"
   },
   {
    "duration": 45,
    "start_time": "2025-04-04T02:49:38.076Z"
   },
   {
    "duration": 5,
    "start_time": "2025-04-04T02:49:38.123Z"
   },
   {
    "duration": 98,
    "start_time": "2025-04-04T02:49:38.129Z"
   },
   {
    "duration": 8,
    "start_time": "2025-04-04T02:49:38.230Z"
   },
   {
    "duration": 97,
    "start_time": "2025-04-04T02:49:38.240Z"
   },
   {
    "duration": 5,
    "start_time": "2025-04-04T02:49:38.339Z"
   },
   {
    "duration": 64,
    "start_time": "2025-04-04T02:49:38.346Z"
   },
   {
    "duration": 7,
    "start_time": "2025-04-04T02:49:38.412Z"
   },
   {
    "duration": 9,
    "start_time": "2025-04-04T02:49:38.421Z"
   },
   {
    "duration": 4,
    "start_time": "2025-04-04T02:49:38.432Z"
   },
   {
    "duration": 3,
    "start_time": "2025-04-04T02:49:38.438Z"
   },
   {
    "duration": 3,
    "start_time": "2025-04-04T02:49:38.443Z"
   },
   {
    "duration": 23,
    "start_time": "2025-04-04T02:49:38.510Z"
   },
   {
    "duration": 4,
    "start_time": "2025-04-04T02:49:38.535Z"
   },
   {
    "duration": 19,
    "start_time": "2025-04-04T02:49:38.541Z"
   },
   {
    "duration": 4,
    "start_time": "2025-04-04T02:49:38.562Z"
   },
   {
    "duration": 50,
    "start_time": "2025-04-04T02:49:38.568Z"
   },
   {
    "duration": 3,
    "start_time": "2025-04-04T02:49:38.625Z"
   },
   {
    "duration": 666,
    "start_time": "2025-04-04T02:49:38.630Z"
   },
   {
    "duration": 12,
    "start_time": "2025-04-04T02:49:39.298Z"
   },
   {
    "duration": 3,
    "start_time": "2025-04-04T02:49:39.312Z"
   },
   {
    "duration": 659,
    "start_time": "2025-04-04T02:49:39.317Z"
   },
   {
    "duration": 4,
    "start_time": "2025-04-04T02:49:39.979Z"
   },
   {
    "duration": 642,
    "start_time": "2025-04-04T02:49:39.985Z"
   },
   {
    "duration": 3,
    "start_time": "2025-04-04T02:49:40.630Z"
   },
   {
    "duration": 11,
    "start_time": "2025-04-04T02:50:23.998Z"
   },
   {
    "duration": 9,
    "start_time": "2025-04-04T02:56:18.988Z"
   },
   {
    "duration": 9,
    "start_time": "2025-04-04T02:56:21.076Z"
   },
   {
    "duration": 4,
    "start_time": "2025-04-04T03:21:38.721Z"
   },
   {
    "duration": 5,
    "start_time": "2025-04-04T03:22:02.076Z"
   },
   {
    "duration": 4,
    "start_time": "2025-04-04T03:23:29.387Z"
   },
   {
    "duration": 784,
    "start_time": "2025-04-04T03:33:00.103Z"
   },
   {
    "duration": 807,
    "start_time": "2025-04-04T03:33:17.942Z"
   },
   {
    "duration": 789,
    "start_time": "2025-04-04T03:36:09.263Z"
   },
   {
    "duration": 783,
    "start_time": "2025-04-04T03:36:34.016Z"
   },
   {
    "duration": 804,
    "start_time": "2025-04-04T03:42:37.608Z"
   },
   {
    "duration": 6,
    "start_time": "2025-04-04T03:58:40.311Z"
   },
   {
    "duration": 3,
    "start_time": "2025-04-04T03:59:06.822Z"
   },
   {
    "duration": 4,
    "start_time": "2025-04-04T03:59:41.889Z"
   },
   {
    "duration": 808,
    "start_time": "2025-04-04T03:59:43.116Z"
   },
   {
    "duration": 806,
    "start_time": "2025-04-04T04:00:36.303Z"
   },
   {
    "duration": 22,
    "start_time": "2025-04-04T04:02:17.001Z"
   },
   {
    "duration": 5,
    "start_time": "2025-04-04T04:02:24.676Z"
   },
   {
    "duration": 780,
    "start_time": "2025-04-04T04:02:30.496Z"
   },
   {
    "duration": 3,
    "start_time": "2025-04-04T04:02:40.576Z"
   },
   {
    "duration": 787,
    "start_time": "2025-04-04T04:03:35.325Z"
   },
   {
    "duration": 808,
    "start_time": "2025-04-04T04:03:38.196Z"
   },
   {
    "duration": 930,
    "start_time": "2025-04-04T04:04:07.332Z"
   },
   {
    "duration": 224,
    "start_time": "2025-04-04T04:04:08.265Z"
   },
   {
    "duration": 31,
    "start_time": "2025-04-04T04:04:08.491Z"
   },
   {
    "duration": 15,
    "start_time": "2025-04-04T04:04:08.524Z"
   },
   {
    "duration": 41,
    "start_time": "2025-04-04T04:04:08.541Z"
   },
   {
    "duration": 61,
    "start_time": "2025-04-04T04:04:08.585Z"
   },
   {
    "duration": 39,
    "start_time": "2025-04-04T04:04:08.649Z"
   },
   {
    "duration": 74,
    "start_time": "2025-04-04T04:04:08.691Z"
   },
   {
    "duration": 51,
    "start_time": "2025-04-04T04:04:08.767Z"
   },
   {
    "duration": 18,
    "start_time": "2025-04-04T04:04:08.820Z"
   },
   {
    "duration": 38,
    "start_time": "2025-04-04T04:04:08.840Z"
   },
   {
    "duration": 32,
    "start_time": "2025-04-04T04:04:08.879Z"
   },
   {
    "duration": 42,
    "start_time": "2025-04-04T04:04:08.913Z"
   },
   {
    "duration": 15,
    "start_time": "2025-04-04T04:04:08.959Z"
   },
   {
    "duration": 185,
    "start_time": "2025-04-04T04:04:08.976Z"
   },
   {
    "duration": 99,
    "start_time": "2025-04-04T04:04:09.164Z"
   },
   {
    "duration": 95,
    "start_time": "2025-04-04T04:04:09.265Z"
   },
   {
    "duration": 96,
    "start_time": "2025-04-04T04:04:09.362Z"
   },
   {
    "duration": 98,
    "start_time": "2025-04-04T04:04:09.460Z"
   },
   {
    "duration": 95,
    "start_time": "2025-04-04T04:04:09.559Z"
   },
   {
    "duration": 129,
    "start_time": "2025-04-04T04:04:09.656Z"
   },
   {
    "duration": 104,
    "start_time": "2025-04-04T04:04:09.787Z"
   },
   {
    "duration": 94,
    "start_time": "2025-04-04T04:04:09.893Z"
   },
   {
    "duration": 8,
    "start_time": "2025-04-04T04:04:09.989Z"
   },
   {
    "duration": 7,
    "start_time": "2025-04-04T04:04:10.009Z"
   },
   {
    "duration": 8,
    "start_time": "2025-04-04T04:04:10.018Z"
   },
   {
    "duration": 21,
    "start_time": "2025-04-04T04:04:10.028Z"
   },
   {
    "duration": 59,
    "start_time": "2025-04-04T04:04:10.050Z"
   },
   {
    "duration": 102,
    "start_time": "2025-04-04T04:04:10.111Z"
   },
   {
    "duration": 6,
    "start_time": "2025-04-04T04:04:10.214Z"
   },
   {
    "duration": 95,
    "start_time": "2025-04-04T04:04:10.222Z"
   },
   {
    "duration": 5,
    "start_time": "2025-04-04T04:04:10.319Z"
   },
   {
    "duration": 4,
    "start_time": "2025-04-04T04:04:10.326Z"
   },
   {
    "duration": 78,
    "start_time": "2025-04-04T04:04:10.332Z"
   },
   {
    "duration": 3,
    "start_time": "2025-04-04T04:04:10.412Z"
   },
   {
    "duration": 5,
    "start_time": "2025-04-04T04:04:10.417Z"
   },
   {
    "duration": 3,
    "start_time": "2025-04-04T04:04:10.423Z"
   },
   {
    "duration": 4,
    "start_time": "2025-04-04T04:04:10.427Z"
   },
   {
    "duration": 3,
    "start_time": "2025-04-04T04:04:10.433Z"
   },
   {
    "duration": 19,
    "start_time": "2025-04-04T04:04:10.437Z"
   },
   {
    "duration": 49,
    "start_time": "2025-04-04T04:04:10.460Z"
   },
   {
    "duration": 17,
    "start_time": "2025-04-04T04:04:10.511Z"
   },
   {
    "duration": 3,
    "start_time": "2025-04-04T04:04:10.530Z"
   },
   {
    "duration": 17,
    "start_time": "2025-04-04T04:04:10.534Z"
   },
   {
    "duration": 3,
    "start_time": "2025-04-04T04:04:10.553Z"
   },
   {
    "duration": 5,
    "start_time": "2025-04-04T04:04:10.558Z"
   },
   {
    "duration": 827,
    "start_time": "2025-04-04T04:04:10.565Z"
   },
   {
    "duration": 785,
    "start_time": "2025-04-04T04:04:11.394Z"
   },
   {
    "duration": 764,
    "start_time": "2025-04-04T04:04:12.181Z"
   },
   {
    "duration": 291,
    "start_time": "2025-04-04T04:04:12.947Z"
   },
   {
    "duration": 0,
    "start_time": "2025-04-04T04:04:13.240Z"
   },
   {
    "duration": 0,
    "start_time": "2025-04-04T04:04:13.241Z"
   },
   {
    "duration": 0,
    "start_time": "2025-04-04T04:04:13.243Z"
   },
   {
    "duration": 860,
    "start_time": "2025-04-04T04:04:33.513Z"
   },
   {
    "duration": 216,
    "start_time": "2025-04-04T04:04:34.375Z"
   },
   {
    "duration": 26,
    "start_time": "2025-04-04T04:04:34.595Z"
   },
   {
    "duration": 14,
    "start_time": "2025-04-04T04:04:34.623Z"
   },
   {
    "duration": 39,
    "start_time": "2025-04-04T04:04:34.640Z"
   },
   {
    "duration": 58,
    "start_time": "2025-04-04T04:04:34.680Z"
   },
   {
    "duration": 40,
    "start_time": "2025-04-04T04:04:34.740Z"
   },
   {
    "duration": 73,
    "start_time": "2025-04-04T04:04:34.781Z"
   },
   {
    "duration": 38,
    "start_time": "2025-04-04T04:04:34.855Z"
   },
   {
    "duration": 28,
    "start_time": "2025-04-04T04:04:34.894Z"
   },
   {
    "duration": 39,
    "start_time": "2025-04-04T04:04:34.924Z"
   },
   {
    "duration": 16,
    "start_time": "2025-04-04T04:04:34.964Z"
   },
   {
    "duration": 57,
    "start_time": "2025-04-04T04:04:34.982Z"
   },
   {
    "duration": 15,
    "start_time": "2025-04-04T04:04:35.043Z"
   },
   {
    "duration": 181,
    "start_time": "2025-04-04T04:04:35.060Z"
   },
   {
    "duration": 114,
    "start_time": "2025-04-04T04:04:35.242Z"
   },
   {
    "duration": 99,
    "start_time": "2025-04-04T04:04:35.358Z"
   },
   {
    "duration": 97,
    "start_time": "2025-04-04T04:04:35.458Z"
   },
   {
    "duration": 93,
    "start_time": "2025-04-04T04:04:35.556Z"
   },
   {
    "duration": 95,
    "start_time": "2025-04-04T04:04:35.651Z"
   },
   {
    "duration": 106,
    "start_time": "2025-04-04T04:04:35.747Z"
   },
   {
    "duration": 110,
    "start_time": "2025-04-04T04:04:35.855Z"
   },
   {
    "duration": 97,
    "start_time": "2025-04-04T04:04:35.967Z"
   },
   {
    "duration": 8,
    "start_time": "2025-04-04T04:04:36.066Z"
   },
   {
    "duration": 8,
    "start_time": "2025-04-04T04:04:36.075Z"
   },
   {
    "duration": 28,
    "start_time": "2025-04-04T04:04:36.085Z"
   },
   {
    "duration": 24,
    "start_time": "2025-04-04T04:04:36.114Z"
   },
   {
    "duration": 66,
    "start_time": "2025-04-04T04:04:36.142Z"
   },
   {
    "duration": 100,
    "start_time": "2025-04-04T04:04:36.212Z"
   },
   {
    "duration": 6,
    "start_time": "2025-04-04T04:04:36.317Z"
   },
   {
    "duration": 98,
    "start_time": "2025-04-04T04:04:36.325Z"
   },
   {
    "duration": 5,
    "start_time": "2025-04-04T04:04:36.424Z"
   },
   {
    "duration": 4,
    "start_time": "2025-04-04T04:04:36.430Z"
   },
   {
    "duration": 74,
    "start_time": "2025-04-04T04:04:36.435Z"
   },
   {
    "duration": 3,
    "start_time": "2025-04-04T04:04:36.511Z"
   },
   {
    "duration": 6,
    "start_time": "2025-04-04T04:04:36.516Z"
   },
   {
    "duration": 12,
    "start_time": "2025-04-04T04:04:36.523Z"
   },
   {
    "duration": 3,
    "start_time": "2025-04-04T04:04:36.537Z"
   },
   {
    "duration": 2,
    "start_time": "2025-04-04T04:04:36.542Z"
   },
   {
    "duration": 63,
    "start_time": "2025-04-04T04:04:36.546Z"
   },
   {
    "duration": 2,
    "start_time": "2025-04-04T04:04:36.613Z"
   },
   {
    "duration": 17,
    "start_time": "2025-04-04T04:04:36.617Z"
   },
   {
    "duration": 3,
    "start_time": "2025-04-04T04:04:36.635Z"
   },
   {
    "duration": 17,
    "start_time": "2025-04-04T04:04:36.640Z"
   },
   {
    "duration": 3,
    "start_time": "2025-04-04T04:04:36.658Z"
   },
   {
    "duration": 4,
    "start_time": "2025-04-04T04:04:36.663Z"
   },
   {
    "duration": 832,
    "start_time": "2025-04-04T04:04:36.669Z"
   },
   {
    "duration": 777,
    "start_time": "2025-04-04T04:04:37.503Z"
   },
   {
    "duration": 801,
    "start_time": "2025-04-04T04:04:38.283Z"
   },
   {
    "duration": 3,
    "start_time": "2025-04-04T04:04:39.086Z"
   },
   {
    "duration": 303,
    "start_time": "2025-04-04T04:04:39.090Z"
   },
   {
    "duration": 0,
    "start_time": "2025-04-04T04:04:39.394Z"
   },
   {
    "duration": 0,
    "start_time": "2025-04-04T04:04:39.396Z"
   },
   {
    "duration": 891,
    "start_time": "2025-04-04T04:05:22.591Z"
   },
   {
    "duration": 213,
    "start_time": "2025-04-04T04:05:23.484Z"
   },
   {
    "duration": 26,
    "start_time": "2025-04-04T04:05:23.699Z"
   },
   {
    "duration": 14,
    "start_time": "2025-04-04T04:05:23.727Z"
   },
   {
    "duration": 40,
    "start_time": "2025-04-04T04:05:23.743Z"
   },
   {
    "duration": 57,
    "start_time": "2025-04-04T04:05:23.784Z"
   },
   {
    "duration": 38,
    "start_time": "2025-04-04T04:05:23.844Z"
   },
   {
    "duration": 78,
    "start_time": "2025-04-04T04:05:23.883Z"
   },
   {
    "duration": 50,
    "start_time": "2025-04-04T04:05:23.962Z"
   },
   {
    "duration": 15,
    "start_time": "2025-04-04T04:05:24.015Z"
   },
   {
    "duration": 36,
    "start_time": "2025-04-04T04:05:24.032Z"
   },
   {
    "duration": 16,
    "start_time": "2025-04-04T04:05:24.070Z"
   },
   {
    "duration": 52,
    "start_time": "2025-04-04T04:05:24.088Z"
   },
   {
    "duration": 16,
    "start_time": "2025-04-04T04:05:24.142Z"
   },
   {
    "duration": 173,
    "start_time": "2025-04-04T04:05:24.159Z"
   },
   {
    "duration": 91,
    "start_time": "2025-04-04T04:05:24.334Z"
   },
   {
    "duration": 97,
    "start_time": "2025-04-04T04:05:24.427Z"
   },
   {
    "duration": 100,
    "start_time": "2025-04-04T04:05:24.526Z"
   },
   {
    "duration": 94,
    "start_time": "2025-04-04T04:05:24.627Z"
   },
   {
    "duration": 100,
    "start_time": "2025-04-04T04:05:24.722Z"
   },
   {
    "duration": 101,
    "start_time": "2025-04-04T04:05:24.824Z"
   },
   {
    "duration": 102,
    "start_time": "2025-04-04T04:05:24.927Z"
   },
   {
    "duration": 95,
    "start_time": "2025-04-04T04:05:25.031Z"
   },
   {
    "duration": 9,
    "start_time": "2025-04-04T04:05:25.127Z"
   },
   {
    "duration": 8,
    "start_time": "2025-04-04T04:05:25.137Z"
   },
   {
    "duration": 8,
    "start_time": "2025-04-04T04:05:25.146Z"
   },
   {
    "duration": 56,
    "start_time": "2025-04-04T04:05:25.155Z"
   },
   {
    "duration": 4,
    "start_time": "2025-04-04T04:05:25.217Z"
   },
   {
    "duration": 94,
    "start_time": "2025-04-04T04:05:25.224Z"
   },
   {
    "duration": 6,
    "start_time": "2025-04-04T04:05:25.320Z"
   },
   {
    "duration": 95,
    "start_time": "2025-04-04T04:05:25.327Z"
   },
   {
    "duration": 5,
    "start_time": "2025-04-04T04:05:25.424Z"
   },
   {
    "duration": 82,
    "start_time": "2025-04-04T04:05:25.431Z"
   },
   {
    "duration": 6,
    "start_time": "2025-04-04T04:05:25.515Z"
   },
   {
    "duration": 3,
    "start_time": "2025-04-04T04:05:25.523Z"
   },
   {
    "duration": 5,
    "start_time": "2025-04-04T04:05:25.527Z"
   },
   {
    "duration": 3,
    "start_time": "2025-04-04T04:05:25.533Z"
   },
   {
    "duration": 3,
    "start_time": "2025-04-04T04:05:25.538Z"
   },
   {
    "duration": 2,
    "start_time": "2025-04-04T04:05:25.543Z"
   },
   {
    "duration": 79,
    "start_time": "2025-04-04T04:05:25.547Z"
   },
   {
    "duration": 3,
    "start_time": "2025-04-04T04:05:25.627Z"
   },
   {
    "duration": 16,
    "start_time": "2025-04-04T04:05:25.632Z"
   },
   {
    "duration": 3,
    "start_time": "2025-04-04T04:05:25.650Z"
   },
   {
    "duration": 17,
    "start_time": "2025-04-04T04:05:25.654Z"
   },
   {
    "duration": 3,
    "start_time": "2025-04-04T04:05:25.674Z"
   },
   {
    "duration": 32,
    "start_time": "2025-04-04T04:05:25.679Z"
   },
   {
    "duration": 811,
    "start_time": "2025-04-04T04:05:25.713Z"
   },
   {
    "duration": 778,
    "start_time": "2025-04-04T04:05:26.526Z"
   },
   {
    "duration": 775,
    "start_time": "2025-04-04T04:05:27.309Z"
   },
   {
    "duration": 3,
    "start_time": "2025-04-04T04:05:28.086Z"
   },
   {
    "duration": 623,
    "start_time": "2025-04-04T04:05:28.090Z"
   },
   {
    "duration": 589,
    "start_time": "2025-04-04T04:05:28.715Z"
   },
   {
    "duration": 3,
    "start_time": "2025-04-04T04:05:29.309Z"
   },
   {
    "duration": 824,
    "start_time": "2025-04-04T04:05:55.743Z"
   },
   {
    "duration": 776,
    "start_time": "2025-04-04T04:06:33.671Z"
   },
   {
    "duration": 825,
    "start_time": "2025-04-04T04:06:58.570Z"
   },
   {
    "duration": 3,
    "start_time": "2025-04-04T04:07:27.197Z"
   },
   {
    "duration": 1068,
    "start_time": "2025-04-04T06:03:09.208Z"
   },
   {
    "duration": 294,
    "start_time": "2025-04-04T06:03:10.278Z"
   },
   {
    "duration": 31,
    "start_time": "2025-04-04T06:03:10.574Z"
   },
   {
    "duration": 14,
    "start_time": "2025-04-04T06:03:10.607Z"
   },
   {
    "duration": 12,
    "start_time": "2025-04-04T06:03:10.623Z"
   },
   {
    "duration": 3,
    "start_time": "2025-04-04T06:07:09.939Z"
   },
   {
    "duration": 234,
    "start_time": "2025-04-04T06:07:09.945Z"
   },
   {
    "duration": 29,
    "start_time": "2025-04-04T06:07:10.181Z"
   },
   {
    "duration": 13,
    "start_time": "2025-04-04T06:07:10.212Z"
   },
   {
    "duration": 11,
    "start_time": "2025-04-04T06:07:10.226Z"
   },
   {
    "duration": 37,
    "start_time": "2025-04-04T06:07:10.238Z"
   },
   {
    "duration": 59,
    "start_time": "2025-04-04T06:07:10.277Z"
   },
   {
    "duration": 35,
    "start_time": "2025-04-04T06:07:10.337Z"
   },
   {
    "duration": 76,
    "start_time": "2025-04-04T06:07:10.373Z"
   },
   {
    "duration": 161,
    "start_time": "2025-04-04T06:07:10.452Z"
   },
   {
    "duration": 15,
    "start_time": "2025-04-04T06:07:10.615Z"
   },
   {
    "duration": 35,
    "start_time": "2025-04-04T06:07:10.632Z"
   },
   {
    "duration": 17,
    "start_time": "2025-04-04T06:07:10.669Z"
   },
   {
    "duration": 52,
    "start_time": "2025-04-04T06:07:10.688Z"
   },
   {
    "duration": 15,
    "start_time": "2025-04-04T06:07:10.741Z"
   },
   {
    "duration": 175,
    "start_time": "2025-04-04T06:07:10.758Z"
   },
   {
    "duration": 99,
    "start_time": "2025-04-04T06:07:10.934Z"
   },
   {
    "duration": 102,
    "start_time": "2025-04-04T06:07:11.035Z"
   },
   {
    "duration": 104,
    "start_time": "2025-04-04T06:07:11.139Z"
   },
   {
    "duration": 95,
    "start_time": "2025-04-04T06:07:11.245Z"
   },
   {
    "duration": 96,
    "start_time": "2025-04-04T06:07:11.341Z"
   },
   {
    "duration": 114,
    "start_time": "2025-04-04T06:07:11.439Z"
   },
   {
    "duration": 104,
    "start_time": "2025-04-04T06:07:11.555Z"
   },
   {
    "duration": 105,
    "start_time": "2025-04-04T06:07:11.661Z"
   },
   {
    "duration": 10,
    "start_time": "2025-04-04T06:07:11.767Z"
   },
   {
    "duration": 8,
    "start_time": "2025-04-04T06:07:11.778Z"
   },
   {
    "duration": 24,
    "start_time": "2025-04-04T06:07:11.788Z"
   },
   {
    "duration": 22,
    "start_time": "2025-04-04T06:07:11.815Z"
   },
   {
    "duration": 5,
    "start_time": "2025-04-04T06:07:11.839Z"
   },
   {
    "duration": 161,
    "start_time": "2025-04-04T06:07:11.845Z"
   },
   {
    "duration": 5,
    "start_time": "2025-04-04T06:07:12.008Z"
   },
   {
    "duration": 97,
    "start_time": "2025-04-04T06:07:12.017Z"
   },
   {
    "duration": 5,
    "start_time": "2025-04-04T06:07:12.116Z"
   },
   {
    "duration": 4,
    "start_time": "2025-04-04T06:07:12.123Z"
   },
   {
    "duration": 81,
    "start_time": "2025-04-04T06:07:12.128Z"
   },
   {
    "duration": 3,
    "start_time": "2025-04-04T06:07:12.213Z"
   },
   {
    "duration": 5,
    "start_time": "2025-04-04T06:07:12.217Z"
   },
   {
    "duration": 3,
    "start_time": "2025-04-04T06:07:12.224Z"
   },
   {
    "duration": 3,
    "start_time": "2025-04-04T06:07:12.229Z"
   },
   {
    "duration": 3,
    "start_time": "2025-04-04T06:07:12.234Z"
   },
   {
    "duration": 19,
    "start_time": "2025-04-04T06:07:12.239Z"
   },
   {
    "duration": 3,
    "start_time": "2025-04-04T06:07:12.306Z"
   },
   {
    "duration": 18,
    "start_time": "2025-04-04T06:07:12.310Z"
   },
   {
    "duration": 3,
    "start_time": "2025-04-04T06:07:12.330Z"
   },
   {
    "duration": 17,
    "start_time": "2025-04-04T06:07:12.334Z"
   },
   {
    "duration": 2,
    "start_time": "2025-04-04T06:07:12.353Z"
   },
   {
    "duration": 5,
    "start_time": "2025-04-04T06:07:12.357Z"
   },
   {
    "duration": 853,
    "start_time": "2025-04-04T06:07:12.363Z"
   },
   {
    "duration": 789,
    "start_time": "2025-04-04T06:07:13.217Z"
   },
   {
    "duration": 837,
    "start_time": "2025-04-04T06:07:14.008Z"
   },
   {
    "duration": 2,
    "start_time": "2025-04-04T06:07:14.848Z"
   },
   {
    "duration": 2700,
    "start_time": "2025-04-04T13:37:14.799Z"
   },
   {
    "duration": 311,
    "start_time": "2025-04-04T13:37:17.501Z"
   },
   {
    "duration": 27,
    "start_time": "2025-04-04T13:37:17.814Z"
   },
   {
    "duration": 15,
    "start_time": "2025-04-04T13:37:17.844Z"
   },
   {
    "duration": 13,
    "start_time": "2025-04-04T13:37:17.861Z"
   },
   {
    "duration": 70,
    "start_time": "2025-04-04T13:37:17.876Z"
   },
   {
    "duration": 38,
    "start_time": "2025-04-04T13:37:17.948Z"
   },
   {
    "duration": 55,
    "start_time": "2025-04-04T13:37:17.988Z"
   },
   {
    "duration": 62,
    "start_time": "2025-04-04T13:37:18.045Z"
   },
   {
    "duration": 60,
    "start_time": "2025-04-04T13:37:18.109Z"
   },
   {
    "duration": 16,
    "start_time": "2025-04-04T13:37:18.171Z"
   },
   {
    "duration": 60,
    "start_time": "2025-04-04T13:37:18.189Z"
   },
   {
    "duration": 16,
    "start_time": "2025-04-04T13:37:18.251Z"
   },
   {
    "duration": 62,
    "start_time": "2025-04-04T13:37:18.271Z"
   },
   {
    "duration": 17,
    "start_time": "2025-04-04T13:37:18.335Z"
   },
   {
    "duration": 126,
    "start_time": "2025-04-04T13:37:18.354Z"
   },
   {
    "duration": 98,
    "start_time": "2025-04-04T13:37:18.485Z"
   },
   {
    "duration": 103,
    "start_time": "2025-04-04T13:37:18.585Z"
   },
   {
    "duration": 180,
    "start_time": "2025-04-04T13:37:18.689Z"
   },
   {
    "duration": 100,
    "start_time": "2025-04-04T13:37:18.871Z"
   },
   {
    "duration": 101,
    "start_time": "2025-04-04T13:37:18.973Z"
   },
   {
    "duration": 113,
    "start_time": "2025-04-04T13:37:19.076Z"
   },
   {
    "duration": 111,
    "start_time": "2025-04-04T13:37:19.191Z"
   },
   {
    "duration": 107,
    "start_time": "2025-04-04T13:37:19.304Z"
   },
   {
    "duration": 18,
    "start_time": "2025-04-04T13:37:19.413Z"
   },
   {
    "duration": 8,
    "start_time": "2025-04-04T13:37:19.433Z"
   },
   {
    "duration": 8,
    "start_time": "2025-04-04T13:37:19.443Z"
   },
   {
    "duration": 21,
    "start_time": "2025-04-04T13:37:19.453Z"
   },
   {
    "duration": 4,
    "start_time": "2025-04-04T13:37:19.476Z"
   },
   {
    "duration": 102,
    "start_time": "2025-04-04T13:37:19.533Z"
   },
   {
    "duration": 6,
    "start_time": "2025-04-04T13:37:19.637Z"
   },
   {
    "duration": 96,
    "start_time": "2025-04-04T13:37:19.644Z"
   },
   {
    "duration": 5,
    "start_time": "2025-04-04T13:37:19.741Z"
   },
   {
    "duration": 3,
    "start_time": "2025-04-04T13:37:19.748Z"
   },
   {
    "duration": 5,
    "start_time": "2025-04-04T13:37:19.753Z"
   },
   {
    "duration": 73,
    "start_time": "2025-04-04T13:37:19.760Z"
   },
   {
    "duration": 5,
    "start_time": "2025-04-04T13:37:19.836Z"
   },
   {
    "duration": 2,
    "start_time": "2025-04-04T13:37:19.843Z"
   },
   {
    "duration": 4,
    "start_time": "2025-04-04T13:37:19.847Z"
   },
   {
    "duration": 3,
    "start_time": "2025-04-04T13:37:19.853Z"
   },
   {
    "duration": 19,
    "start_time": "2025-04-04T13:37:19.860Z"
   },
   {
    "duration": 51,
    "start_time": "2025-04-04T13:37:19.880Z"
   },
   {
    "duration": 18,
    "start_time": "2025-04-04T13:37:19.933Z"
   },
   {
    "duration": 3,
    "start_time": "2025-04-04T13:37:19.953Z"
   },
   {
    "duration": 18,
    "start_time": "2025-04-04T13:37:19.958Z"
   },
   {
    "duration": 3,
    "start_time": "2025-04-04T13:37:19.978Z"
   },
   {
    "duration": 5,
    "start_time": "2025-04-04T13:37:19.983Z"
   },
   {
    "duration": 861,
    "start_time": "2025-04-04T13:37:19.989Z"
   },
   {
    "duration": 798,
    "start_time": "2025-04-04T13:37:20.851Z"
   },
   {
    "duration": 821,
    "start_time": "2025-04-04T13:37:21.651Z"
   },
   {
    "duration": 2,
    "start_time": "2025-04-04T13:37:22.474Z"
   },
   {
    "duration": 7,
    "start_time": "2025-04-04T22:32:45.572Z"
   },
   {
    "duration": 220,
    "start_time": "2025-04-04T22:32:55.705Z"
   },
   {
    "duration": 2937,
    "start_time": "2025-04-04T22:33:03.982Z"
   },
   {
    "duration": 324,
    "start_time": "2025-04-04T22:33:06.923Z"
   },
   {
    "duration": 34,
    "start_time": "2025-04-04T22:33:07.251Z"
   },
   {
    "duration": 19,
    "start_time": "2025-04-04T22:33:07.287Z"
   },
   {
    "duration": 27,
    "start_time": "2025-04-04T22:33:07.308Z"
   },
   {
    "duration": 57,
    "start_time": "2025-04-04T22:33:07.337Z"
   },
   {
    "duration": 59,
    "start_time": "2025-04-04T22:33:07.396Z"
   },
   {
    "duration": 43,
    "start_time": "2025-04-04T22:33:07.457Z"
   },
   {
    "duration": 95,
    "start_time": "2025-04-04T22:33:07.502Z"
   },
   {
    "duration": 69,
    "start_time": "2025-04-04T22:33:07.601Z"
   },
   {
    "duration": 21,
    "start_time": "2025-04-04T22:33:07.672Z"
   },
   {
    "duration": 78,
    "start_time": "2025-04-04T22:33:07.696Z"
   },
   {
    "duration": 19,
    "start_time": "2025-04-04T22:33:07.776Z"
   },
   {
    "duration": 78,
    "start_time": "2025-04-04T22:33:07.797Z"
   },
   {
    "duration": 20,
    "start_time": "2025-04-04T22:33:07.877Z"
   },
   {
    "duration": 139,
    "start_time": "2025-04-04T22:33:07.899Z"
   },
   {
    "duration": 99,
    "start_time": "2025-04-04T22:33:08.041Z"
   },
   {
    "duration": 126,
    "start_time": "2025-04-04T22:33:08.143Z"
   },
   {
    "duration": 113,
    "start_time": "2025-04-04T22:33:08.271Z"
   },
   {
    "duration": 171,
    "start_time": "2025-04-04T22:33:08.386Z"
   },
   {
    "duration": 112,
    "start_time": "2025-04-04T22:33:08.559Z"
   },
   {
    "duration": 127,
    "start_time": "2025-04-04T22:33:08.674Z"
   },
   {
    "duration": 113,
    "start_time": "2025-04-04T22:33:08.803Z"
   },
   {
    "duration": 97,
    "start_time": "2025-04-04T22:33:08.919Z"
   },
   {
    "duration": 18,
    "start_time": "2025-04-04T22:33:09.018Z"
   },
   {
    "duration": 9,
    "start_time": "2025-04-04T22:33:09.038Z"
   },
   {
    "duration": 8,
    "start_time": "2025-04-04T22:33:09.049Z"
   },
   {
    "duration": 72,
    "start_time": "2025-04-04T22:33:09.064Z"
   },
   {
    "duration": 9,
    "start_time": "2025-04-04T22:33:09.140Z"
   },
   {
    "duration": 103,
    "start_time": "2025-04-04T22:33:09.151Z"
   },
   {
    "duration": 8,
    "start_time": "2025-04-04T22:33:09.258Z"
   },
   {
    "duration": 165,
    "start_time": "2025-04-04T22:33:09.269Z"
   },
   {
    "duration": 11,
    "start_time": "2025-04-04T22:33:09.438Z"
   },
   {
    "duration": 8,
    "start_time": "2025-04-04T22:33:09.453Z"
   },
   {
    "duration": 10,
    "start_time": "2025-04-04T22:33:09.531Z"
   },
   {
    "duration": 4,
    "start_time": "2025-04-04T22:33:09.543Z"
   },
   {
    "duration": 6,
    "start_time": "2025-04-04T22:33:09.549Z"
   },
   {
    "duration": 3,
    "start_time": "2025-04-04T22:33:09.557Z"
   },
   {
    "duration": 3,
    "start_time": "2025-04-04T22:33:09.562Z"
   },
   {
    "duration": 3,
    "start_time": "2025-04-04T22:33:09.567Z"
   },
   {
    "duration": 21,
    "start_time": "2025-04-04T22:33:09.572Z"
   },
   {
    "duration": 6,
    "start_time": "2025-04-04T22:33:09.596Z"
   },
   {
    "duration": 46,
    "start_time": "2025-04-04T22:33:09.603Z"
   },
   {
    "duration": 3,
    "start_time": "2025-04-04T22:33:09.652Z"
   },
   {
    "duration": 19,
    "start_time": "2025-04-04T22:33:09.658Z"
   },
   {
    "duration": 5,
    "start_time": "2025-04-04T22:33:09.682Z"
   },
   {
    "duration": 5,
    "start_time": "2025-04-04T22:33:09.689Z"
   },
   {
    "duration": 887,
    "start_time": "2025-04-04T22:33:09.696Z"
   },
   {
    "duration": 828,
    "start_time": "2025-04-04T22:33:10.586Z"
   },
   {
    "duration": 842,
    "start_time": "2025-04-04T22:33:11.416Z"
   },
   {
    "duration": 2,
    "start_time": "2025-04-04T22:33:12.261Z"
   },
   {
    "duration": 6,
    "start_time": "2025-04-04T22:51:03.712Z"
   },
   {
    "duration": 888,
    "start_time": "2025-04-04T22:51:05.738Z"
   },
   {
    "duration": 860,
    "start_time": "2025-04-04T22:51:10.305Z"
   },
   {
    "duration": 943,
    "start_time": "2025-04-04T22:51:12.244Z"
   },
   {
    "duration": 219,
    "start_time": "2025-04-04T22:54:35.044Z"
   },
   {
    "duration": 4,
    "start_time": "2025-04-04T22:55:21.152Z"
   },
   {
    "duration": 820,
    "start_time": "2025-04-04T22:55:25.837Z"
   },
   {
    "duration": 802,
    "start_time": "2025-04-04T22:55:57.059Z"
   },
   {
    "duration": 786,
    "start_time": "2025-04-04T22:56:01.498Z"
   },
   {
    "duration": 1005,
    "start_time": "2025-04-04T23:03:58.491Z"
   },
   {
    "duration": 238,
    "start_time": "2025-04-04T23:03:59.499Z"
   },
   {
    "duration": 29,
    "start_time": "2025-04-04T23:03:59.739Z"
   },
   {
    "duration": 17,
    "start_time": "2025-04-04T23:03:59.770Z"
   },
   {
    "duration": 15,
    "start_time": "2025-04-04T23:03:59.789Z"
   },
   {
    "duration": 66,
    "start_time": "2025-04-04T23:03:59.806Z"
   },
   {
    "duration": 58,
    "start_time": "2025-04-04T23:03:59.874Z"
   },
   {
    "duration": 41,
    "start_time": "2025-04-04T23:03:59.934Z"
   },
   {
    "duration": 83,
    "start_time": "2025-04-04T23:03:59.978Z"
   },
   {
    "duration": 56,
    "start_time": "2025-04-04T23:04:00.064Z"
   },
   {
    "duration": 27,
    "start_time": "2025-04-04T23:04:00.122Z"
   },
   {
    "duration": 52,
    "start_time": "2025-04-04T23:04:00.151Z"
   },
   {
    "duration": 34,
    "start_time": "2025-04-04T23:04:00.204Z"
   },
   {
    "duration": 39,
    "start_time": "2025-04-04T23:04:00.240Z"
   },
   {
    "duration": 18,
    "start_time": "2025-04-04T23:04:00.281Z"
   },
   {
    "duration": 194,
    "start_time": "2025-04-04T23:04:00.300Z"
   },
   {
    "duration": 98,
    "start_time": "2025-04-04T23:04:00.498Z"
   },
   {
    "duration": 121,
    "start_time": "2025-04-04T23:04:00.599Z"
   },
   {
    "duration": 145,
    "start_time": "2025-04-04T23:04:00.722Z"
   },
   {
    "duration": 117,
    "start_time": "2025-04-04T23:04:00.869Z"
   },
   {
    "duration": 101,
    "start_time": "2025-04-04T23:04:00.988Z"
   },
   {
    "duration": 156,
    "start_time": "2025-04-04T23:04:01.090Z"
   },
   {
    "duration": 153,
    "start_time": "2025-04-04T23:04:01.248Z"
   },
   {
    "duration": 100,
    "start_time": "2025-04-04T23:04:01.402Z"
   },
   {
    "duration": 10,
    "start_time": "2025-04-04T23:04:01.504Z"
   },
   {
    "duration": 24,
    "start_time": "2025-04-04T23:04:01.516Z"
   },
   {
    "duration": 8,
    "start_time": "2025-04-04T23:04:01.543Z"
   },
   {
    "duration": 40,
    "start_time": "2025-04-04T23:04:01.558Z"
   },
   {
    "duration": 6,
    "start_time": "2025-04-04T23:04:01.630Z"
   },
   {
    "duration": 110,
    "start_time": "2025-04-04T23:04:01.638Z"
   },
   {
    "duration": 7,
    "start_time": "2025-04-04T23:04:01.750Z"
   },
   {
    "duration": 115,
    "start_time": "2025-04-04T23:04:01.759Z"
   },
   {
    "duration": 4,
    "start_time": "2025-04-04T23:04:01.876Z"
   },
   {
    "duration": 9,
    "start_time": "2025-04-04T23:04:01.931Z"
   },
   {
    "duration": 5,
    "start_time": "2025-04-04T23:04:01.941Z"
   },
   {
    "duration": 8,
    "start_time": "2025-04-04T23:04:01.948Z"
   },
   {
    "duration": 8,
    "start_time": "2025-04-04T23:04:01.959Z"
   },
   {
    "duration": 4,
    "start_time": "2025-04-04T23:04:01.971Z"
   },
   {
    "duration": 3,
    "start_time": "2025-04-04T23:04:01.978Z"
   },
   {
    "duration": 3,
    "start_time": "2025-04-04T23:04:02.033Z"
   },
   {
    "duration": 23,
    "start_time": "2025-04-04T23:04:02.038Z"
   },
   {
    "duration": 4,
    "start_time": "2025-04-04T23:04:02.063Z"
   },
   {
    "duration": 21,
    "start_time": "2025-04-04T23:04:02.069Z"
   },
   {
    "duration": 3,
    "start_time": "2025-04-04T23:04:02.092Z"
   },
   {
    "duration": 60,
    "start_time": "2025-04-04T23:04:02.098Z"
   },
   {
    "duration": 3,
    "start_time": "2025-04-04T23:04:02.160Z"
   },
   {
    "duration": 6,
    "start_time": "2025-04-04T23:04:02.165Z"
   },
   {
    "duration": 1021,
    "start_time": "2025-04-04T23:04:02.173Z"
   },
   {
    "duration": 949,
    "start_time": "2025-04-04T23:04:03.196Z"
   },
   {
    "duration": 921,
    "start_time": "2025-04-04T23:04:04.147Z"
   },
   {
    "duration": 3,
    "start_time": "2025-04-04T23:04:05.071Z"
   },
   {
    "duration": 5,
    "start_time": "2025-04-04T23:04:59.960Z"
   },
   {
    "duration": 825,
    "start_time": "2025-04-04T23:05:02.429Z"
   },
   {
    "duration": 819,
    "start_time": "2025-04-04T23:05:12.088Z"
   },
   {
    "duration": 795,
    "start_time": "2025-04-04T23:05:26.942Z"
   },
   {
    "duration": 5,
    "start_time": "2025-04-04T23:07:43.982Z"
   },
   {
    "duration": 831,
    "start_time": "2025-04-04T23:07:46.252Z"
   },
   {
    "duration": 4,
    "start_time": "2025-04-04T23:09:49.054Z"
   },
   {
    "duration": 1094,
    "start_time": "2025-04-04T23:09:50.488Z"
   },
   {
    "duration": 4,
    "start_time": "2025-04-04T23:10:20.040Z"
   },
   {
    "duration": 822,
    "start_time": "2025-04-04T23:10:22.210Z"
   },
   {
    "duration": 4,
    "start_time": "2025-04-04T23:11:03.744Z"
   },
   {
    "duration": 869,
    "start_time": "2025-04-04T23:11:05.179Z"
   },
   {
    "duration": 4,
    "start_time": "2025-04-04T23:13:33.742Z"
   },
   {
    "duration": 823,
    "start_time": "2025-04-04T23:13:35.448Z"
   },
   {
    "duration": 4,
    "start_time": "2025-04-04T23:13:50.668Z"
   },
   {
    "duration": 813,
    "start_time": "2025-04-04T23:13:53.136Z"
   },
   {
    "duration": 4,
    "start_time": "2025-04-04T23:14:02.951Z"
   },
   {
    "duration": 772,
    "start_time": "2025-04-04T23:14:07.461Z"
   },
   {
    "duration": 4,
    "start_time": "2025-04-04T23:14:35.763Z"
   },
   {
    "duration": 788,
    "start_time": "2025-04-04T23:14:37.825Z"
   },
   {
    "duration": 4,
    "start_time": "2025-04-04T23:14:50.981Z"
   },
   {
    "duration": 793,
    "start_time": "2025-04-04T23:14:53.944Z"
   },
   {
    "duration": 4,
    "start_time": "2025-04-04T23:15:56.929Z"
   },
   {
    "duration": 895,
    "start_time": "2025-04-04T23:15:58.990Z"
   },
   {
    "duration": 5,
    "start_time": "2025-04-04T23:16:18.852Z"
   },
   {
    "duration": 779,
    "start_time": "2025-04-04T23:16:22.597Z"
   },
   {
    "duration": 4,
    "start_time": "2025-04-04T23:17:44.444Z"
   },
   {
    "duration": 779,
    "start_time": "2025-04-04T23:17:52.493Z"
   },
   {
    "duration": 5,
    "start_time": "2025-04-04T23:18:10.129Z"
   },
   {
    "duration": 787,
    "start_time": "2025-04-04T23:18:11.944Z"
   },
   {
    "duration": 797,
    "start_time": "2025-04-04T23:18:14.509Z"
   },
   {
    "duration": 791,
    "start_time": "2025-04-04T23:18:17.656Z"
   },
   {
    "duration": 908,
    "start_time": "2025-04-04T23:30:40.780Z"
   },
   {
    "duration": 219,
    "start_time": "2025-04-04T23:30:41.691Z"
   },
   {
    "duration": 25,
    "start_time": "2025-04-04T23:30:41.912Z"
   },
   {
    "duration": 15,
    "start_time": "2025-04-04T23:30:41.939Z"
   },
   {
    "duration": 14,
    "start_time": "2025-04-04T23:30:41.957Z"
   },
   {
    "duration": 58,
    "start_time": "2025-04-04T23:30:41.974Z"
   },
   {
    "duration": 38,
    "start_time": "2025-04-04T23:30:42.034Z"
   },
   {
    "duration": 61,
    "start_time": "2025-04-04T23:30:42.074Z"
   },
   {
    "duration": 59,
    "start_time": "2025-04-04T23:30:42.138Z"
   },
   {
    "duration": 48,
    "start_time": "2025-04-04T23:30:42.198Z"
   },
   {
    "duration": 15,
    "start_time": "2025-04-04T23:30:42.247Z"
   },
   {
    "duration": 37,
    "start_time": "2025-04-04T23:30:42.263Z"
   },
   {
    "duration": 32,
    "start_time": "2025-04-04T23:30:42.302Z"
   },
   {
    "duration": 37,
    "start_time": "2025-04-04T23:30:42.338Z"
   },
   {
    "duration": 16,
    "start_time": "2025-04-04T23:30:42.376Z"
   },
   {
    "duration": 173,
    "start_time": "2025-04-04T23:30:42.395Z"
   },
   {
    "duration": 93,
    "start_time": "2025-04-04T23:30:42.569Z"
   },
   {
    "duration": 99,
    "start_time": "2025-04-04T23:30:42.663Z"
   },
   {
    "duration": 100,
    "start_time": "2025-04-04T23:30:42.764Z"
   },
   {
    "duration": 94,
    "start_time": "2025-04-04T23:30:42.865Z"
   },
   {
    "duration": 94,
    "start_time": "2025-04-04T23:30:42.961Z"
   },
   {
    "duration": 108,
    "start_time": "2025-04-04T23:30:43.056Z"
   },
   {
    "duration": 110,
    "start_time": "2025-04-04T23:30:43.166Z"
   },
   {
    "duration": 97,
    "start_time": "2025-04-04T23:30:43.278Z"
   },
   {
    "duration": 9,
    "start_time": "2025-04-04T23:30:43.377Z"
   },
   {
    "duration": 9,
    "start_time": "2025-04-04T23:30:43.387Z"
   },
   {
    "duration": 8,
    "start_time": "2025-04-04T23:30:43.397Z"
   },
   {
    "duration": 41,
    "start_time": "2025-04-04T23:30:43.406Z"
   },
   {
    "duration": 4,
    "start_time": "2025-04-04T23:30:43.449Z"
   },
   {
    "duration": 90,
    "start_time": "2025-04-04T23:30:43.454Z"
   },
   {
    "duration": 5,
    "start_time": "2025-04-04T23:30:43.545Z"
   },
   {
    "duration": 95,
    "start_time": "2025-04-04T23:30:43.551Z"
   },
   {
    "duration": 4,
    "start_time": "2025-04-04T23:30:43.648Z"
   },
   {
    "duration": 80,
    "start_time": "2025-04-04T23:30:43.654Z"
   },
   {
    "duration": 5,
    "start_time": "2025-04-04T23:30:43.736Z"
   },
   {
    "duration": 4,
    "start_time": "2025-04-04T23:30:43.743Z"
   },
   {
    "duration": 5,
    "start_time": "2025-04-04T23:30:43.748Z"
   },
   {
    "duration": 3,
    "start_time": "2025-04-04T23:30:43.754Z"
   },
   {
    "duration": 3,
    "start_time": "2025-04-04T23:30:43.759Z"
   },
   {
    "duration": 3,
    "start_time": "2025-04-04T23:30:43.764Z"
   },
   {
    "duration": 18,
    "start_time": "2025-04-04T23:30:43.832Z"
   },
   {
    "duration": 3,
    "start_time": "2025-04-04T23:30:43.852Z"
   },
   {
    "duration": 16,
    "start_time": "2025-04-04T23:30:43.857Z"
   },
   {
    "duration": 3,
    "start_time": "2025-04-04T23:30:43.875Z"
   },
   {
    "duration": 18,
    "start_time": "2025-04-04T23:30:43.879Z"
   },
   {
    "duration": 34,
    "start_time": "2025-04-04T23:30:43.898Z"
   },
   {
    "duration": 5,
    "start_time": "2025-04-04T23:30:43.935Z"
   },
   {
    "duration": 790,
    "start_time": "2025-04-04T23:30:43.941Z"
   },
   {
    "duration": 764,
    "start_time": "2025-04-04T23:30:44.733Z"
   },
   {
    "duration": 795,
    "start_time": "2025-04-04T23:30:45.498Z"
   },
   {
    "duration": 2,
    "start_time": "2025-04-04T23:30:46.296Z"
   }
  ],
  "kernelspec": {
   "display_name": "Python 3 (ipykernel)",
   "language": "python",
   "name": "python3"
  },
  "language_info": {
   "codemirror_mode": {
    "name": "ipython",
    "version": 3
   },
   "file_extension": ".py",
   "mimetype": "text/x-python",
   "name": "python",
   "nbconvert_exporter": "python",
   "pygments_lexer": "ipython3",
   "version": "3.12.7"
  },
  "toc": {
   "base_numbering": 1,
   "nav_menu": {},
   "number_sections": true,
   "sideBar": true,
   "skip_h1_title": true,
   "title_cell": "Table of Contents",
   "title_sidebar": "Contents",
   "toc_cell": false,
   "toc_position": {},
   "toc_section_display": true,
   "toc_window_display": false
  }
 },
 "nbformat": 4,
 "nbformat_minor": 4
}
